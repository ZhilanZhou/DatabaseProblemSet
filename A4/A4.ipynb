{
 "cells": [
  {
   "cell_type": "markdown",
   "metadata": {},
   "source": [
    "# Setup\n",
    "\n",
    "## Install Pymongo\n",
    "\n",
    "Install the `pymongo` package through [Anaconda](https://docs.anaconda.com/anaconda-cloud/user-guide/getting-started#finding-downloading-and-installing-packages).\n",
    "\n",
    "## Examples\n",
    "\n",
    "The notebook will have links to the official documentation with examples that you can follow. In addition you can look at the [examples](examples.ipynb) using Pymongo."
   ]
  },
  {
   "cell_type": "markdown",
   "metadata": {},
   "source": [
    "### Database and Collections\n",
    "\n",
    "MongoDB is a document-oriented *NoSQL* database.\n",
    "Read the following introductory sections:\n",
    "\n",
    "- [Database and Collections](https://docs.mongodb.com/manual/core/databases-and-collections/)\n",
    "- [Documents](https://docs.mongodb.com/manual/core/document/)"
   ]
  },
  {
   "cell_type": "code",
   "execution_count": 1,
   "metadata": {
    "collapsed": true
   },
   "outputs": [],
   "source": [
    "import comp521\n",
    "\n",
    "check, report = comp521.start('A4')\n",
    "\n",
    "from pymongo import MongoClient\n",
    "from utils import fetchall, host, pprint\n",
    "\n",
    "client = MongoClient(host())\n",
    "db = client.comp521"
   ]
  },
  {
   "cell_type": "markdown",
   "metadata": {},
   "source": [
    "## A) Finding Documents\n",
    "\n",
    "Read the section on [find](https://docs.mongodb.com/manual/reference/method/db.collection.find/)."
   ]
  },
  {
   "cell_type": "markdown",
   "metadata": {
    "collapsed": true
   },
   "source": [
    "The **prizes** collection contains information on all of the Nobel prizes that have been awarded.\n",
    "Use *find* to get the following:\n",
    "\n",
    "1. Find all the nobel prizes in the **physics** category.\n",
    "2. Find all the nobel prizes awarded in **2014**."
   ]
  },
  {
   "cell_type": "code",
   "execution_count": 99,
   "metadata": {},
   "outputs": [
    {
     "name": "stdout",
     "output_type": "stream",
     "text": [
      "Physics prizes\n",
      "[ { '_id': ObjectId('59b057ac53173c5bb580c3a5'),\n",
      "    'category': 'physics',\n",
      "    'laureates': [ { 'firstname': 'David J.',\n",
      "                     'id': '928',\n",
      "                     'motivation': '\"for theoretical discoveries of '\n",
      "                                   'topological phase transitions and '\n",
      "                                   'topological phases of matter\"',\n",
      "                     'share': '2',\n",
      "                     'surname': 'Thouless'},\n",
      "                   { 'firstname': 'F. Duncan M.',\n",
      "                     'id': '929',\n",
      "                     'motivation': '\"for theoretical discoveries of '\n",
      "                                   'topological phase transitions and '\n",
      "                                   'topological phases of matter\"',\n",
      "                     'share': '4',\n",
      "                     'surname': 'Haldane'},\n",
      "                   { 'firstname': 'J. Michael',\n",
      "                     'id': '930',\n",
      "                     'motivation': '\"for theoretical discoveries of '\n",
      "                                   'topological phase transitions and '\n",
      "                                   'topological phases of matter\"',\n",
      "                     'share': '4',\n",
      "                     'surname': 'Kosterlitz'}],\n",
      "    'year': 2016},\n",
      "  { '_id': ObjectId('59b057ac53173c5bb580c3ad'),\n",
      "    'category': 'physics',\n",
      "    'laureates': [ { 'firstname': 'Isamu',\n",
      "                     'id': '906',\n",
      "                     'motivation': '\"for the invention of efficient blue '\n",
      "                                   'light-emitting diodes which has enabled '\n",
      "                                   'bright and energy-saving white light '\n",
      "                                   'sources\"',\n",
      "                     'share': '3',\n",
      "                     'surname': 'Akasaki'},\n",
      "                   { 'firstname': 'Hiroshi',\n",
      "                     'id': '907',\n",
      "                     'motivation': '\"for the invention of efficient blue '\n",
      "                                   'light-emitting diodes which has enabled '\n",
      "                                   'bright and energy-saving white light '\n",
      "                                   'sources\"',\n",
      "                     'share': '3',\n",
      "                     'surname': 'Amano'},\n",
      "                   { 'firstname': 'Shuji',\n",
      "                     'id': '908',\n",
      "                     'motivation': '\"for the invention of efficient blue '\n",
      "                                   'light-emitting diodes which has enabled '\n",
      "                                   'bright and energy-saving white light '\n",
      "                                   'sources\"',\n",
      "                     'share': '3',\n",
      "                     'surname': 'Nakamura'}],\n",
      "    'year': 2014},\n",
      "  { '_id': ObjectId('59b057ac53173c5bb580c3b4'),\n",
      "    'category': 'physics',\n",
      "    'laureates': [ { 'firstname': 'François',\n",
      "                     'id': '887',\n",
      "                     'motivation': '\"for the theoretical discovery of a '\n",
      "                                   'mechanism that contributes to our '\n",
      "                                   'understanding of the origin of mass of '\n",
      "                                   'subatomic particles, and which recently '\n",
      "                                   'was confirmed through the discovery of the '\n",
      "                                   'predicted fundamental particle, by the '\n",
      "                                   \"ATLAS and CMS experiments at CERN's Large \"\n",
      "                                   'Hadron Collider\"',\n",
      "                     'share': '2',\n",
      "                     'surname': 'Englert'},\n",
      "                   { 'firstname': 'Peter W.',\n",
      "                     'id': '888',\n",
      "                     'motivation': '\"for the theoretical discovery of a '\n",
      "                                   'mechanism that contributes to our '\n",
      "                                   'understanding of the origin of mass of '\n",
      "                                   'subatomic particles, and which recently '\n",
      "                                   'was confirmed through the discovery of the '\n",
      "                                   'predicted fundamental particle, by the '\n",
      "                                   \"ATLAS and CMS experiments at CERN's Large \"\n",
      "                                   'Hadron Collider\"',\n",
      "                     'share': '2',\n",
      "                     'surname': 'Higgs'}],\n",
      "    'year': 2013},\n",
      "  { '_id': ObjectId('59b057ac53173c5bb580c3b9'),\n",
      "    'category': 'physics',\n",
      "    'laureates': [ { 'firstname': 'Serge',\n",
      "                     'id': '876',\n",
      "                     'motivation': '\"for ground-breaking experimental methods '\n",
      "                                   'that enable measuring and manipulation of '\n",
      "                                   'individual quantum systems\"',\n",
      "                     'share': '2',\n",
      "                     'surname': 'Haroche'},\n",
      "                   { 'firstname': 'David J.',\n",
      "                     'id': '877',\n",
      "                     'motivation': '\"for ground-breaking experimental methods '\n",
      "                                   'that enable measuring and manipulation of '\n",
      "                                   'individual quantum systems\"',\n",
      "                     'share': '2',\n",
      "                     'surname': 'Wineland'}],\n",
      "    'year': 2012},\n",
      "  { '_id': ObjectId('59b057ac53173c5bb580c3bc'),\n",
      "    'category': 'physics',\n",
      "    'laureates': [ { 'firstname': 'Takaaki',\n",
      "                     'id': '919',\n",
      "                     'motivation': '\"for the discovery of neutrino '\n",
      "                                   'oscillations, which shows that neutrinos '\n",
      "                                   'have mass\"',\n",
      "                     'share': '2',\n",
      "                     'surname': 'Kajita'},\n",
      "                   { 'firstname': 'Arthur B.',\n",
      "                     'id': '920',\n",
      "                     'motivation': '\"for the discovery of neutrino '\n",
      "                                   'oscillations, which shows that neutrinos '\n",
      "                                   'have mass\"',\n",
      "                     'share': '2',\n",
      "                     'surname': 'McDonald'}],\n",
      "    'year': 2015}]\n",
      "A1 appears correct\n"
     ]
    }
   ],
   "source": [
    "a1 = fetchall(db.prizes.find({ \"category\": \"physics\" })) # write your code here\n",
    "# An example of how to see your results.\n",
    "print('Physics prizes')\n",
    "pprint(a1)\n",
    "check('A1', a1, points=5)"
   ]
  },
  {
   "cell_type": "code",
   "execution_count": 100,
   "metadata": {},
   "outputs": [
    {
     "name": "stdout",
     "output_type": "stream",
     "text": [
      "Prizes in 2014\n",
      "[ { '_id': ObjectId('59b057ac53173c5bb580c3ac'),\n",
      "    'category': 'chemistry',\n",
      "    'laureates': [ { 'firstname': 'Eric',\n",
      "                     'id': '909',\n",
      "                     'motivation': '\"for the development of super-resolved '\n",
      "                                   'fluorescence microscopy\"',\n",
      "                     'share': '3',\n",
      "                     'surname': 'Betzig'},\n",
      "                   { 'firstname': 'Stefan W.',\n",
      "                     'id': '910',\n",
      "                     'motivation': '\"for the development of super-resolved '\n",
      "                                   'fluorescence microscopy\"',\n",
      "                     'share': '3',\n",
      "                     'surname': 'Hell'},\n",
      "                   { 'firstname': 'William E.',\n",
      "                     'id': '911',\n",
      "                     'motivation': '\"for the development of super-resolved '\n",
      "                                   'fluorescence microscopy\"',\n",
      "                     'share': '3',\n",
      "                     'surname': 'Moerner'}],\n",
      "    'year': 2014},\n",
      "  { '_id': ObjectId('59b057ac53173c5bb580c3ad'),\n",
      "    'category': 'physics',\n",
      "    'laureates': [ { 'firstname': 'Isamu',\n",
      "                     'id': '906',\n",
      "                     'motivation': '\"for the invention of efficient blue '\n",
      "                                   'light-emitting diodes which has enabled '\n",
      "                                   'bright and energy-saving white light '\n",
      "                                   'sources\"',\n",
      "                     'share': '3',\n",
      "                     'surname': 'Akasaki'},\n",
      "                   { 'firstname': 'Hiroshi',\n",
      "                     'id': '907',\n",
      "                     'motivation': '\"for the invention of efficient blue '\n",
      "                                   'light-emitting diodes which has enabled '\n",
      "                                   'bright and energy-saving white light '\n",
      "                                   'sources\"',\n",
      "                     'share': '3',\n",
      "                     'surname': 'Amano'},\n",
      "                   { 'firstname': 'Shuji',\n",
      "                     'id': '908',\n",
      "                     'motivation': '\"for the invention of efficient blue '\n",
      "                                   'light-emitting diodes which has enabled '\n",
      "                                   'bright and energy-saving white light '\n",
      "                                   'sources\"',\n",
      "                     'share': '3',\n",
      "                     'surname': 'Nakamura'}],\n",
      "    'year': 2014},\n",
      "  { '_id': ObjectId('59b057ac53173c5bb580c3af'),\n",
      "    'category': 'economics',\n",
      "    'laureates': [ { 'firstname': 'Jean',\n",
      "                     'id': '915',\n",
      "                     'motivation': '\"for his analysis of market power and '\n",
      "                                   'regulation\"',\n",
      "                     'share': '1',\n",
      "                     'surname': 'Tirole'}],\n",
      "    'year': 2014},\n",
      "  { '_id': ObjectId('59b057ac53173c5bb580c3b1'),\n",
      "    'category': 'literature',\n",
      "    'laureates': [ { 'firstname': 'Patrick',\n",
      "                     'id': '912',\n",
      "                     'motivation': '\"for the art of memory with which he has '\n",
      "                                   'evoked the most ungraspable human '\n",
      "                                   'destinies and\\r\\n'\n",
      "                                   'uncovered the life-world of the '\n",
      "                                   'occupation\"',\n",
      "                     'share': '1',\n",
      "                     'surname': 'Modiano'}],\n",
      "    'year': 2014},\n",
      "  { '_id': ObjectId('59b057ac53173c5bb580c3b0'),\n",
      "    'category': 'medicine',\n",
      "    'laureates': [ { 'firstname': 'John',\n",
      "                     'id': '903',\n",
      "                     'motivation': '\"for their discoveries of cells that '\n",
      "                                   'constitute a positioning system in the '\n",
      "                                   'brain\"',\n",
      "                     'share': '2',\n",
      "                     'surname': \"O'Keefe\"},\n",
      "                   { 'firstname': 'May-Britt',\n",
      "                     'id': '904',\n",
      "                     'motivation': '\"for their discoveries of cells that '\n",
      "                                   'constitute a positioning system in the '\n",
      "                                   'brain\"',\n",
      "                     'share': '4',\n",
      "                     'surname': 'Moser'},\n",
      "                   { 'firstname': 'Edvard I.',\n",
      "                     'id': '905',\n",
      "                     'motivation': '\"for their discoveries of cells that '\n",
      "                                   'constitute a positioning system in the '\n",
      "                                   'brain\"',\n",
      "                     'share': '4',\n",
      "                     'surname': 'Moser'}],\n",
      "    'year': 2014}]\n",
      "A2 appears correct\n"
     ]
    }
   ],
   "source": [
    "a2 = fetchall(db.prizes.find({ \"year\": 2014 })) # write your code here\n",
    "print('Prizes in 2014')\n",
    "pprint(a2)\n",
    "check('A2', a2, points=5)"
   ]
  },
  {
   "cell_type": "markdown",
   "metadata": {},
   "source": [
    "## B) Finding with Expression and Comparisons"
   ]
  },
  {
   "cell_type": "markdown",
   "metadata": {},
   "source": [
    "Use conditional queries to find the following. You can find the complete list of comparison query operators [here](https://docs.mongodb.com/manual/reference/operator/query-comparison/#query-selectors-comparison).\n",
    "\n",
    "1. Find all the nobel prizes awarded before **2000**.\n",
    "2. Find all the nobel prizes awarded between **2000** and **2010**."
   ]
  },
  {
   "cell_type": "code",
   "execution_count": 101,
   "metadata": {},
   "outputs": [
    {
     "name": "stdout",
     "output_type": "stream",
     "text": [
      "B1 appears correct\n"
     ]
    }
   ],
   "source": [
    "b1 = fetchall(db.prizes.find( { \"year\": { \"$lt\": 2000 } } )) # write your code here\n",
    "check('B1', b1, points=5)"
   ]
  },
  {
   "cell_type": "code",
   "execution_count": 102,
   "metadata": {},
   "outputs": [
    {
     "name": "stdout",
     "output_type": "stream",
     "text": [
      "B2 appears correct\n"
     ]
    }
   ],
   "source": [
    "b2 = fetchall(db.prizes.find( { \"year\": { \"$lte\": 2010, \"$gte\": 2000 } } )) # write your code here\n",
    "check('B2', b2, points=5)"
   ]
  },
  {
   "cell_type": "markdown",
   "metadata": {},
   "source": [
    "## C) Projection\n",
    "\n",
    "Read the section on [projection](https://docs.mongodb.com/manual/tutorial/project-fields-from-query-results/#return-the-specified-fields-and-the-id-field-only)."
   ]
  },
  {
   "cell_type": "markdown",
   "metadata": {},
   "source": [
    "The **companies** collection contains data on startups.\n",
    "\n",
    "Use projection to get the following:\n",
    "\n",
    "1. Output only the **name** of the companies (you should still output the `_id` field).\n",
    "2. Find the names of all the startups that have acquired at least one company (you will need to use the [$exists](https://docs.mongodb.com/manual/reference/operator/query/exists/) operator).\n",
    "3. Find the names of startups that had an IPO in 2012."
   ]
  },
  {
   "cell_type": "code",
   "execution_count": 13,
   "metadata": {},
   "outputs": [
    {
     "name": "stdout",
     "output_type": "stream",
     "text": [
      "C1 appears correct\n"
     ]
    }
   ],
   "source": [
    "c1 = fetchall(db.companies.find( {},{\"name\": 1} )) # write your code here\n",
    "\n",
    "check('C1', c1, points=5)"
   ]
  },
  {
   "cell_type": "code",
   "execution_count": 4,
   "metadata": {},
   "outputs": [
    {
     "name": "stdout",
     "output_type": "stream",
     "text": [
      "C2 appears correct\n"
     ]
    }
   ],
   "source": [
    "c2 = fetchall(db.companies.find( { \"acquisitions\": { \"$exists\": \"true\"}},{\"name\": 1} )) # write your code here\n",
    "\n",
    "check('C2', c2, points=5)"
   ]
  },
  {
   "cell_type": "code",
   "execution_count": 12,
   "metadata": {},
   "outputs": [
    {
     "name": "stdout",
     "output_type": "stream",
     "text": [
      "C3 appears correct\n"
     ]
    }
   ],
   "source": [
    "c3 = fetchall(db.companies.find( { \"ipo.pub_year\": 2012},{\"name\": 1} )) # write your code here\n",
    "check('C3', c3, points=5)"
   ]
  },
  {
   "cell_type": "markdown",
   "metadata": {},
   "source": [
    "## D) Count\n",
    "\n",
    "Read the section on the [count](https://docs.mongodb.com/manual/reference/method/db.collection.count/#examples) function."
   ]
  },
  {
   "cell_type": "markdown",
   "metadata": {},
   "source": [
    "The **zips** collection contains data on all of the zip codes in the US.\n",
    "\n",
    "Use **count** to get the following:\n",
    "1. Count the number of zip codes in NC.\n",
    "2. Count the number of zip codes with population greater than 10,000."
   ]
  },
  {
   "cell_type": "code",
   "execution_count": 18,
   "metadata": {},
   "outputs": [
    {
     "name": "stdout",
     "output_type": "stream",
     "text": [
      "D1 appears correct\n"
     ]
    }
   ],
   "source": [
    "d1 = db.zips.find({\"state\": \"NC\"}).count()\n",
    "\n",
    "check('D1', d1, points=5)"
   ]
  },
  {
   "cell_type": "code",
   "execution_count": 17,
   "metadata": {},
   "outputs": [
    {
     "name": "stdout",
     "output_type": "stream",
     "text": [
      "D2 appears correct\n"
     ]
    }
   ],
   "source": [
    "d2 = db.zips.find({\"pop\": { \"$gt\": 10000 }}).count()\n",
    "check('D2', d2, points=5)"
   ]
  },
  {
   "cell_type": "markdown",
   "metadata": {},
   "source": [
    "## Aggregation\n",
    "\n",
    "Read the section on [aggregation](https://docs.mongodb.com/manual/core/aggregation-pipeline/)."
   ]
  },
  {
   "cell_type": "markdown",
   "metadata": {},
   "source": [
    "## E) Match\n",
    "\n",
    "Read the section on the [$match](https://docs.mongodb.com/manual/reference/operator/aggregation/match/) operator."
   ]
  },
  {
   "cell_type": "markdown",
   "metadata": {},
   "source": [
    "Use *$match* to get the following:\n",
    "1. Find the companies that have more than **50,000** employees."
   ]
  },
  {
   "cell_type": "code",
   "execution_count": 23,
   "metadata": {},
   "outputs": [
    {
     "name": "stdout",
     "output_type": "stream",
     "text": [
      "E1 appears correct\n"
     ]
    }
   ],
   "source": [
    "e1 = fetchall(db.companies.aggregate([\n",
    "    { \"$match\": { \"number_of_employees\": { \"$gt\": 50000 } } }\n",
    "]))\n",
    "check('E1', e1, points=5)"
   ]
  },
  {
   "cell_type": "markdown",
   "metadata": {},
   "source": [
    "## F) Projection\n",
    "\n",
    "Read the section on the [$project](https://docs.mongodb.com/manual/reference/operator/aggregation/project/) operator."
   ]
  },
  {
   "cell_type": "markdown",
   "metadata": {},
   "source": [
    "1. Add a projection step to the previous aggregation in **F** to only output **name** and **number_of_employees** (you should still output the `_id` field as before).\n",
    "2. Output a list of zip codes and a field called **inNC** if the zip code is in NC (you can use the [$eq](https://docs.mongodb.com/manual/reference/operator/aggregation/eq/) operator here)."
   ]
  },
  {
   "cell_type": "code",
   "execution_count": 24,
   "metadata": {},
   "outputs": [
    {
     "name": "stdout",
     "output_type": "stream",
     "text": [
      "F1 appears correct\n"
     ]
    }
   ],
   "source": [
    "f1 = fetchall(db.companies.aggregate([\n",
    "    { \"$match\": { \"number_of_employees\": { \"$gt\": 50000 } } },\n",
    "    { \"$project\": { \"name\": 1, \"number_of_employees\": 1} }\n",
    "]))\n",
    "check('F1', f1, points=5)"
   ]
  },
  {
   "cell_type": "code",
   "execution_count": 27,
   "metadata": {},
   "outputs": [
    {
     "name": "stdout",
     "output_type": "stream",
     "text": [
      "F2 appears correct\n"
     ]
    }
   ],
   "source": [
    "f2 = fetchall(db.zips.aggregate([\n",
    "    { \"$match\": { } },\n",
    "    { \"$project\": { \"_id\": 1, \"inNC\": { \"$eq\": [ \"$state\", \"NC\" ] },} }\n",
    "]))\n",
    "\n",
    "check('F2', f2, points=5)"
   ]
  },
  {
   "cell_type": "markdown",
   "metadata": {
    "collapsed": true
   },
   "source": [
    "## G) Group\n",
    "\n",
    "Read the section on [grouping](https://docs.mongodb.com/manual/reference/operator/aggregation/group/).\n",
    "\n",
    "\n",
    "1. Group by the year that the company was founded.\n",
    "2. Add a field to the previous output called **companies** that contains the names of the companies founded in that year (You will need to use the [$push](https://docs.mongodb.com/manual/reference/operator/aggregation/push/#grp._S_push) operator here.)\n",
    "3. Output a list of states and the population of the zip code with the highest population in that state (you can use the [\\$max](https://docs.mongodb.com/manual/reference/operator/aggregation/max/) operator for this). Your output should look something like this:\n",
    "    ```\n",
    "    [\n",
    "        { \"_id\": \"NY\", \"maxPop\": 111396 },\n",
    "        ...\n",
    "    ]\n",
    "    ```"
   ]
  },
  {
   "cell_type": "code",
   "execution_count": 34,
   "metadata": {},
   "outputs": [
    {
     "name": "stdout",
     "output_type": "stream",
     "text": [
      "G1 appears correct\n"
     ]
    }
   ],
   "source": [
    "g1 = fetchall(db.companies.aggregate([\n",
    "    { \n",
    "        \"$group\": { \n",
    "            \"_id\": \"$founded_year\"\n",
    "        } \n",
    "    }\n",
    "]))\n",
    "\n",
    "check('G1', g1, points=5)\n"
   ]
  },
  {
   "cell_type": "code",
   "execution_count": 46,
   "metadata": {},
   "outputs": [
    {
     "name": "stdout",
     "output_type": "stream",
     "text": [
      "G2 appears correct\n"
     ]
    }
   ],
   "source": [
    "g2 = fetchall(db.companies.aggregate([\n",
    "    { \n",
    "        \"$group\": { \n",
    "            \"_id\": \"$founded_year\",\n",
    "            \"companies\": { \"$push\": \"$name\" }\n",
    "        } \n",
    "    }\n",
    "]))\n",
    "check('G2', g2, ponts=5)"
   ]
  },
  {
   "cell_type": "code",
   "execution_count": 48,
   "metadata": {},
   "outputs": [
    {
     "name": "stdout",
     "output_type": "stream",
     "text": [
      "G3 appears correct\n"
     ]
    }
   ],
   "source": [
    "g3 = fetchall(db.zips.aggregate([\n",
    "    { \n",
    "        \"$group\": { \n",
    "            \"_id\": \"$state\",\n",
    "            \"maxPop\": { \"$max\": \"$pop\" }\n",
    "        } \n",
    "    }\n",
    "]))\n",
    "\n",
    "check('G3', g3, ponits=5)"
   ]
  },
  {
   "cell_type": "markdown",
   "metadata": {},
   "source": [
    "## H) Accumulator Operators\n",
    "\n",
    "Read the section on the [\\$sum](https://docs.mongodb.com/manual/reference/operator/aggregation/sum/#sum-aggregation) operator and how to use it inside [\\$group](https://docs.mongodb.com/manual/reference/operator/aggregation/sum/#use-in-group-stage)."
   ]
  },
  {
   "cell_type": "markdown",
   "metadata": {},
   "source": [
    "The **enron** collection contains emails that were made public during the investigation of the American energy company Enron. For questions regarding count, make sure the actual count is in a field count *count*.\n",
    "\n",
    "1. Rank the senders by the number of emails they sent sorted by highest to lowest (You will need to use the [$sort](https://docs.mongodb.com/manual/reference/operator/aggregation/sort/) operator here).\n",
    "\n",
    "Your output should look something like this:\n",
    "```\n",
    "[\n",
    "    {'_id': 'a@enron.com', 'count': 1000 },\n",
    "    {'_id': 'b@enron.com', 'count': 900 },\n",
    "    ...\n",
    "]\n",
    "```"
   ]
  },
  {
   "cell_type": "code",
   "execution_count": 53,
   "metadata": {},
   "outputs": [
    {
     "name": "stdout",
     "output_type": "stream",
     "text": [
      "H1 appears correct\n"
     ]
    }
   ],
   "source": [
    "h1 = fetchall(db.enron.aggregate([\n",
    "    { \n",
    "        \"$group\": { \n",
    "            \"_id\": \"$sender\",\n",
    "            \"count\": { \"$sum\": 1 } \n",
    "        } \n",
    "    },\n",
    "    { \"$sort\" : { \"count\": -1 } }\n",
    "]))\n",
    "\n",
    "check('H1', h1, points=5)"
   ]
  },
  {
   "cell_type": "markdown",
   "metadata": {},
   "source": [
    "## I) Unwind\n",
    "Read the section on the [$unwind](https://docs.mongodb.com/manual/reference/operator/aggregation/unwind/) operator."
   ]
  },
  {
   "cell_type": "markdown",
   "metadata": {
    "collapsed": true
   },
   "source": [
    "1. Unwind the **tags** field in the **companies** collection and output a list of tags by adding a **$group** stage. Your output should look something like this:\n",
    "    ```\n",
    "    [\n",
    "        {'_id': 'advertiseing'},\n",
    "        {'_id': 'mobile'},\n",
    "        ...\n",
    "    ]\n",
    "    ```\n",
    "2. Add a field called **count** to the output from the previous aggregation, which represents the number of times that tag appears in the list. Sorted the results by the count in descending order."
   ]
  },
  {
   "cell_type": "code",
   "execution_count": 57,
   "metadata": {},
   "outputs": [
    {
     "name": "stdout",
     "output_type": "stream",
     "text": [
      "I1 appears correct\n"
     ]
    }
   ],
   "source": [
    "i1 = list(db.companies.aggregate([{'$unwind':'$tags'},{'$group':{'_id':'$tags'}}]))\n",
    "check('I1', i1, points=5)"
   ]
  },
  {
   "cell_type": "code",
   "execution_count": 71,
   "metadata": {},
   "outputs": [
    {
     "name": "stdout",
     "output_type": "stream",
     "text": [
      "I2 appears correct\n"
     ]
    }
   ],
   "source": [
    "i2 = list(db.companies.aggregate([{'$unwind':'$tags'},\n",
    "                                  {'$group':{'_id':'$tags', 'count': { '$sum': 1 } }},\n",
    "                                 { \"$sort\" : { \"count\": -1 } }]))\n",
    "check('I2', i2, points=5)"
   ]
  },
  {
   "cell_type": "markdown",
   "metadata": {},
   "source": [
    "## J) Write a function\n",
    "\n",
    "Given a year, output a list of tags that were most popular among the companies found in that year sorted alphabetically."
   ]
  },
  {
   "cell_type": "code",
   "execution_count": 97,
   "metadata": {},
   "outputs": [
    {
     "name": "stdout",
     "output_type": "stream",
     "text": [
      "J1 appears correct\n"
     ]
    }
   ],
   "source": [
    "# write your function here\n",
    "def j(year):\n",
    "    total = fetchall(db.companies.aggregate([{ \"$match\": { \"founded_year\": year } },\n",
    "                                        {'$unwind':'$tags'},\n",
    "                                        {'$group':{'_id':'$tags', 'count': { '$sum': 1 } }},\n",
    "                                        {\"$sort\" : { \"count\": -1 }}]))\n",
    "    maxnum = total[0][\"count\"]\n",
    "    ans = []\n",
    "    for element in total:\n",
    "        if (element[\"count\"] == maxnum):\n",
    "            ans.append(element[\"_id\"])\n",
    "    return ans\n",
    "\n",
    "# I'll run your function to test it.\n",
    "j1 = j(2011)\n",
    "\n",
    "check('J1', j1, points=20)"
   ]
  },
  {
   "cell_type": "code",
   "execution_count": 103,
   "metadata": {},
   "outputs": [
    {
     "name": "stdout",
     "output_type": "stream",
     "text": [
      "  Collaborators: []\n",
      "Report for zzl\n",
      "  19 of 19 appear correct, 100 of 100 points\n"
     ]
    },
    {
     "data": {
      "text/html": [
       "\n",
       "<p>Click the button below to submit your notebook. Watch for a confirmation message\n",
       "that your notebook was successfully uploaded. You may submit as often as you wish,\n",
       "only the last submission will count.</p>\n",
       "<button id=\"submitButton116\">Submit this notebook</button>\n",
       "<p id=\"submitResponse116\"></p>\n",
       "<script>\n",
       "var site = 'https://wwwx.cs.unc.edu/Courses/comp521-f17/';\n",
       "$('#submitButton116').on('click', function() {\n",
       "    var site = 'https://wwwx.cs.unc.edu/Courses/comp521-f17/',\n",
       "        $sresp = $('#submitResponse116'),\n",
       "        button = $('#submitButton116');\n",
       "    button.prop('disabled', true);\n",
       "    // wait until save is complete before pushing the notebook\n",
       "    $([IPython.events]).one('notebook_saved.Notebook', function() {\n",
       "        // get the token by logging in\n",
       "        $sresp.html('logging in');\n",
       "        $.ajax({\n",
       "            url: site + 'io/token/token.cgi',\n",
       "            dataType: 'jsonp'\n",
       "        }).done(function(data) {\n",
       "            var notebook = IPython.notebook.notebook_name,\n",
       "                uuid = data.token,\n",
       "                command = \"comp521.pushNotebook('\" + notebook + \"', '\" + uuid + \"')\",\n",
       "                kernel = IPython.notebook.kernel,\n",
       "                handler = function (out) {\n",
       "                    $('#comp116-stop-message').show();\n",
       "                    if (out.content.status == \"ok\") {\n",
       "                        $sresp.html(\"Successfully submitted \" + notebook);\n",
       "                        $('#comp116-stop-message').hide();\n",
       "                    } else if(out.content.status == \"error\") {\n",
       "                        $sresp.html(out.content.ename + \": \" + out.content.evalue);\n",
       "                    } else { // if output is something we haven't thought of\n",
       "                        $sresp.html(\"[out type not implemented]\")\n",
       "                    }\n",
       "                    button.prop('disabled', false);\n",
       "                };\n",
       "            $sresp.html('Submitting');\n",
       "            kernel.execute(command, {shell: { reply: handler }});\n",
       "        }).fail(function() {\n",
       "            $sresp.html('Login failed');\n",
       "            button.prop('disabled', false);\n",
       "        });\n",
       "    });\n",
       "    // trigger the save\n",
       "    $sresp.html('Saving');\n",
       "    IPython.notebook.save_notebook();\n",
       "});"
      ],
      "text/plain": [
       "<IPython.core.display.HTML object>"
      ]
     },
     "execution_count": 103,
     "metadata": {},
     "output_type": "execute_result"
    }
   ],
   "source": [
    "Onyen = 'zzl'\n",
    "Collaborators = []\n",
    "report(Onyen, Collaborators)"
   ]
  },
  {
   "cell_type": "code",
   "execution_count": null,
   "metadata": {
    "collapsed": true
   },
   "outputs": [],
   "source": []
  }
 ],
 "metadata": {
  "kernelspec": {
   "display_name": "Python 3",
   "language": "python",
   "name": "python3"
  },
  "language_info": {
   "codemirror_mode": {
    "name": "ipython",
    "version": 3
   },
   "file_extension": ".py",
   "mimetype": "text/x-python",
   "name": "python",
   "nbconvert_exporter": "python",
   "pygments_lexer": "ipython3",
   "version": "3.6.2"
  }
 },
 "nbformat": 4,
 "nbformat_minor": 2
}
