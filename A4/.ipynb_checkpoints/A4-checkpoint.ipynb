{
 "cells": [
  {
   "cell_type": "markdown",
   "metadata": {},
   "source": [
    "# Setup\n",
    "\n",
    "## Install Pymongo\n",
    "\n",
    "Install the `pymongo` package through [Anaconda](https://docs.anaconda.com/anaconda-cloud/user-guide/getting-started#finding-downloading-and-installing-packages).\n",
    "\n",
    "## Examples\n",
    "\n",
    "The notebook will have links to the official documentation with examples that you can follow. In addition you can look at the [examples](examples.ipynb) using Pymongo."
   ]
  },
  {
   "cell_type": "markdown",
   "metadata": {},
   "source": [
    "### Database and Collections\n",
    "\n",
    "MongoDB is a document-oriented *NoSQL* database.\n",
    "Read the following introductory sections:\n",
    "\n",
    "- [Database and Collections](https://docs.mongodb.com/manual/core/databases-and-collections/)\n",
    "- [Documents](https://docs.mongodb.com/manual/core/document/)"
   ]
  },
  {
   "cell_type": "code",
   "execution_count": null,
   "metadata": {
    "collapsed": true
   },
   "outputs": [],
   "source": [
    "import comp521\n",
    "\n",
    "check, report = comp521.start('A4')\n",
    "\n",
    "from pymongo import MongoClient\n",
    "from utils import fetchall, host, pprint\n",
    "\n",
    "client = MongoClient(host())\n",
    "db = client.comp521"
   ]
  },
  {
   "cell_type": "markdown",
   "metadata": {},
   "source": [
    "## A) Finding Documents\n",
    "\n",
    "Read the section on [find](https://docs.mongodb.com/manual/reference/method/db.collection.find/)."
   ]
  },
  {
   "cell_type": "markdown",
   "metadata": {
    "collapsed": true
   },
   "source": [
    "The **prizes** collection contains information on all of the Nobel prizes that have been awarded.\n",
    "Use *find* to get the following:\n",
    "\n",
    "1. Find all the nobel prizes in the **physics** category.\n",
    "2. Find all the nobel prizes awarded in **2014**."
   ]
  },
  {
   "cell_type": "code",
   "execution_count": null,
   "metadata": {},
   "outputs": [],
   "source": [
    "a1 = fetchall(db.prizes.find({ \"category\": \"physics\" })) # write your code here\n",
    "# An example of how to see your results.\n",
    "print('Physics prizes')\n",
    "pprint(a1)\n",
    "check('A1', a1, points=5)"
   ]
  },
  {
   "cell_type": "code",
   "execution_count": null,
   "metadata": {},
   "outputs": [],
   "source": [
    "a2 = fetchall(db.prizes.find({ \"year\": 2014 })) # write your code here\n",
    "print('Prizes in 2014')\n",
    "pprint(a2)\n",
    "check('A2', a2, points=5)"
   ]
  },
  {
   "cell_type": "markdown",
   "metadata": {},
   "source": [
    "## B) Finding with Expression and Comparisons"
   ]
  },
  {
   "cell_type": "markdown",
   "metadata": {},
   "source": [
    "Use conditional queries to find the following. You can find the complete list of comparison query operators [here](https://docs.mongodb.com/manual/reference/operator/query-comparison/#query-selectors-comparison).\n",
    "\n",
    "1. Find all the nobel prizes awarded before **2000**.\n",
    "2. Find all the nobel prizes awarded between **2000** and **2010**."
   ]
  },
  {
   "cell_type": "code",
   "execution_count": null,
   "metadata": {},
   "outputs": [],
   "source": [
    "b1 = fetchall(db.prizes.find( { \"year\": { \"$lt\": 2000 } } )) # write your code here\n",
    "check('B1', b1, points=5)"
   ]
  },
  {
   "cell_type": "code",
   "execution_count": null,
   "metadata": {},
   "outputs": [],
   "source": [
    "b2 = fetchall(db.prizes.find( { \"year\": { \"$lte\": 2010, \"$gte\": 2000 } } )) # write your code here\n",
    "check('B2', b2, points=5)"
   ]
  },
  {
   "cell_type": "markdown",
   "metadata": {},
   "source": [
    "## C) Projection\n",
    "\n",
    "Read the section on [projection](https://docs.mongodb.com/manual/tutorial/project-fields-from-query-results/#return-the-specified-fields-and-the-id-field-only)."
   ]
  },
  {
   "cell_type": "markdown",
   "metadata": {},
   "source": [
    "The **companies** collection contains data on startups.\n",
    "\n",
    "Use projection to get the following:\n",
    "\n",
    "1. Output only the **name** of the companies (you should still output the `_id` field).\n",
    "2. Find the names of all the startups that have acquired at least one company (you will need to use the [$exists](https://docs.mongodb.com/manual/reference/operator/query/exists/) operator).\n",
    "3. Find the names of startups that had an IPO in 2012."
   ]
  },
  {
   "cell_type": "code",
   "execution_count": null,
   "metadata": {},
   "outputs": [],
   "source": [
    "c1 = fetchall(db.companies.find( {},{\"name\": 1} )) # write your code here\n",
    "\n",
    "check('C1', c1, points=5)"
   ]
  },
  {
   "cell_type": "code",
   "execution_count": null,
   "metadata": {},
   "outputs": [],
   "source": [
    "c2 = fetchall(db.companies.find( { \"acquisitions\": { \"$exists\": \"true\"}},{\"name\": 1} )) # write your code here\n",
    "\n",
    "check('C2', c2, points=5)"
   ]
  },
  {
   "cell_type": "code",
   "execution_count": null,
   "metadata": {
    "collapsed": true
   },
   "outputs": [],
   "source": [
    "c3 = [] # write your code here\n",
    "check('C3', c3, points=5)"
   ]
  },
  {
   "cell_type": "markdown",
   "metadata": {},
   "source": [
    "## D) Count\n",
    "\n",
    "Read the section on the [count](https://docs.mongodb.com/manual/reference/method/db.collection.count/#examples) function."
   ]
  },
  {
   "cell_type": "markdown",
   "metadata": {},
   "source": [
    "The **zips** collection contains data on all of the zip codes in the US.\n",
    "\n",
    "Use **count** to get the following:\n",
    "1. Count the number of zip codes in NC.\n",
    "2. Count the number of zip codes with population greater than 10,000."
   ]
  },
  {
   "cell_type": "code",
   "execution_count": null,
   "metadata": {
    "collapsed": true
   },
   "outputs": [],
   "source": [
    "d1 = []\n",
    "check('D1', d1, points=5)"
   ]
  },
  {
   "cell_type": "code",
   "execution_count": null,
   "metadata": {
    "collapsed": true
   },
   "outputs": [],
   "source": [
    "d2 = []\n",
    "check('D2', d2, points=5)"
   ]
  },
  {
   "cell_type": "markdown",
   "metadata": {},
   "source": [
    "## Aggregation\n",
    "\n",
    "Read the section on [aggregation](https://docs.mongodb.com/manual/core/aggregation-pipeline/)."
   ]
  },
  {
   "cell_type": "markdown",
   "metadata": {},
   "source": [
    "## E) Match\n",
    "\n",
    "Read the section on the [$match](https://docs.mongodb.com/manual/reference/operator/aggregation/match/) operator."
   ]
  },
  {
   "cell_type": "markdown",
   "metadata": {},
   "source": [
    "Use *$match* to get the following:\n",
    "1. Find the companies that have more than **50,000** employees."
   ]
  },
  {
   "cell_type": "code",
   "execution_count": null,
   "metadata": {
    "collapsed": true
   },
   "outputs": [],
   "source": [
    "e1 = []\n",
    "check('E1', e1, points=5)"
   ]
  },
  {
   "cell_type": "markdown",
   "metadata": {},
   "source": [
    "## F) Projection\n",
    "\n",
    "Read the section on the [$project](https://docs.mongodb.com/manual/reference/operator/aggregation/project/) operator."
   ]
  },
  {
   "cell_type": "markdown",
   "metadata": {},
   "source": [
    "1. Add a projection step to the previous aggregation in **F** to only output **name** and **number_of_employees** (you should still output the `_id` field as before).\n",
    "2. Output a list of zip codes and a field called **inNC** if the zip code is in NC (you can use the [$eq](https://docs.mongodb.com/manual/reference/operator/aggregation/eq/) operator here)."
   ]
  },
  {
   "cell_type": "code",
   "execution_count": null,
   "metadata": {
    "collapsed": true
   },
   "outputs": [],
   "source": [
    "f1 = []\n",
    "check('F1', f1, points=5)"
   ]
  },
  {
   "cell_type": "code",
   "execution_count": null,
   "metadata": {
    "collapsed": true
   },
   "outputs": [],
   "source": [
    "f2 = []\n",
    "\n",
    "check('F2', f2, points=5)"
   ]
  },
  {
   "cell_type": "markdown",
   "metadata": {
    "collapsed": true
   },
   "source": [
    "## G) Group\n",
    "\n",
    "Read the section on [grouping](https://docs.mongodb.com/manual/reference/operator/aggregation/group/).\n",
    "\n",
    "\n",
    "1. Group by the year that the company was founded.\n",
    "2. Add a field to the previous output called **companies** that contains the names of the companies founded in that year (You will need to use the [$push](https://docs.mongodb.com/manual/reference/operator/aggregation/push/#grp._S_push) operator here.)\n",
    "3. Output a list of states and the population of the zip code with the highest population in that state (you can use the [\\$max](https://docs.mongodb.com/manual/reference/operator/aggregation/max/) operator for this). Your output should look something like this:\n",
    "    ```\n",
    "    [\n",
    "        { \"_id\": \"NY\", \"maxPop\": 111396 },\n",
    "        ...\n",
    "    ]\n",
    "    ```"
   ]
  },
  {
   "cell_type": "code",
   "execution_count": null,
   "metadata": {
    "collapsed": true
   },
   "outputs": [],
   "source": [
    "g1 = []\n",
    "\n",
    "check('G1', g1, points=5)\n"
   ]
  },
  {
   "cell_type": "code",
   "execution_count": null,
   "metadata": {
    "collapsed": true
   },
   "outputs": [],
   "source": [
    "g2 = []\n",
    "\n",
    "check('G2', g2, ponts=5)"
   ]
  },
  {
   "cell_type": "code",
   "execution_count": null,
   "metadata": {
    "collapsed": true
   },
   "outputs": [],
   "source": [
    "g3 = []\n",
    "\n",
    "check('G3', g3, ponits=5)"
   ]
  },
  {
   "cell_type": "markdown",
   "metadata": {},
   "source": [
    "## H) Accumulator Operators\n",
    "\n",
    "Read the section on the [\\$sum](https://docs.mongodb.com/manual/reference/operator/aggregation/sum/#sum-aggregation) operator and how to use it inside [\\$group](https://docs.mongodb.com/manual/reference/operator/aggregation/sum/#use-in-group-stage)."
   ]
  },
  {
   "cell_type": "markdown",
   "metadata": {},
   "source": [
    "The **enron** collection contains emails that were made public during the investigation of the American energy company Enron. For questions regarding count, make sure the actual count is in a field count *count*.\n",
    "\n",
    "1. Rank the senders by the number of emails they sent sorted by highest to lowest (You will need to use the [$sort](https://docs.mongodb.com/manual/reference/operator/aggregation/sort/) operator here).\n",
    "\n",
    "Your output should look something like this:\n",
    "```\n",
    "[\n",
    "    {'_id': 'a@enron.com', 'count': 1000 },\n",
    "    {'_id': 'b@enron.com', 'count': 900 },\n",
    "    ...\n",
    "]\n",
    "```"
   ]
  },
  {
   "cell_type": "code",
   "execution_count": null,
   "metadata": {
    "collapsed": true
   },
   "outputs": [],
   "source": [
    "h1 = []\n",
    "\n",
    "check('H1', h1, points=5)"
   ]
  },
  {
   "cell_type": "markdown",
   "metadata": {},
   "source": [
    "## I) Unwind\n",
    "Read the section on the [$unwind](https://docs.mongodb.com/manual/reference/operator/aggregation/unwind/) operator."
   ]
  },
  {
   "cell_type": "markdown",
   "metadata": {
    "collapsed": true
   },
   "source": [
    "1. Unwind the **tags** field in the **companies** collection and output a list of tags by adding a **$group** stage. Your output should look something like this:\n",
    "    ```\n",
    "    [\n",
    "        {'_id': 'advertiseing'},\n",
    "        {'_id': 'mobile'},\n",
    "        ...\n",
    "    ]\n",
    "    ```\n",
    "2. Add a field called **count** to the output from the previous aggregation, which represents the number of times that tag appears in the list. Sorted the results by the count in descending order."
   ]
  },
  {
   "cell_type": "code",
   "execution_count": null,
   "metadata": {
    "collapsed": true
   },
   "outputs": [],
   "source": [
    "i1 = []\n",
    "check('I1', i1, points=5)"
   ]
  },
  {
   "cell_type": "code",
   "execution_count": null,
   "metadata": {
    "collapsed": true
   },
   "outputs": [],
   "source": [
    "i2 = []\n",
    "\n",
    "check('I2', i2, points=5)"
   ]
  },
  {
   "cell_type": "markdown",
   "metadata": {},
   "source": [
    "## J) Write a function\n",
    "\n",
    "Given a year, output a list of tags that were most popular among the companies found in that year sorted alphabetically."
   ]
  },
  {
   "cell_type": "code",
   "execution_count": null,
   "metadata": {
    "collapsed": true
   },
   "outputs": [],
   "source": [
    "# write your function here\n",
    "def j(year):\n",
    "    return []\n",
    "\n",
    "# I'll run your function to test it.\n",
    "j1 = j(2011)\n",
    "\n",
    "check('J1', j1, points=20)"
   ]
  },
  {
   "cell_type": "code",
   "execution_count": null,
   "metadata": {
    "collapsed": true
   },
   "outputs": [],
   "source": [
    "Onyen = 'YourOnyen'\n",
    "Collaborators = ['list', 'their', 'onyens']\n",
    "report(Onyen, Collaborators)"
   ]
  },
  {
   "cell_type": "code",
   "execution_count": null,
   "metadata": {
    "collapsed": true
   },
   "outputs": [],
   "source": []
  }
 ],
 "metadata": {
  "kernelspec": {
   "display_name": "Python 3",
   "language": "python",
   "name": "python3"
  },
  "language_info": {
   "codemirror_mode": {
    "name": "ipython",
    "version": 3
   },
   "file_extension": ".py",
   "mimetype": "text/x-python",
   "name": "python",
   "nbconvert_exporter": "python",
   "pygments_lexer": "ipython3",
   "version": "3.6.2"
  }
 },
 "nbformat": 4,
 "nbformat_minor": 2
}
