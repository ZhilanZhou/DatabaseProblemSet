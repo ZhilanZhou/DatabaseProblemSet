{
 "cells": [
  {
   "cell_type": "markdown",
   "metadata": {},
   "source": [
    "## Examples"
   ]
  },
  {
   "cell_type": "markdown",
   "metadata": {},
   "source": [
    "For the examples we'll be querying a collection containing data on restaurants in New York City. Here is a sample document from the `restaurants` collection:\n",
    "\n",
    "```\n",
    "{\n",
    "\t\"_id\" : ObjectId(\"59d3ec32063931074ab449e7\"),\n",
    "\t\"address\" : {\n",
    "\t\t\"building\" : \"1\",\n",
    "\t\t\"coord\" : [\n",
    "\t\t\t-73.96926909999999,\n",
    "\t\t\t40.7685235\n",
    "\t\t],\n",
    "\t\t\"street\" : \"East   66 Street\",\n",
    "\t\t\"zipcode\" : \"10065\"\n",
    "\t},\n",
    "\t\"borough\" : \"Manhattan\",\n",
    "\t\"cuisine\" : \"American\",\n",
    "\t\"grades\" : [\n",
    "\t\t{\n",
    "\t\t\t\"date\" : ISODate(\"2014-05-07T00:00:00Z\"),\n",
    "\t\t\t\"grade\" : \"A\",\n",
    "\t\t\t\"score\" : 3\n",
    "\t\t}\n",
    "\t],\n",
    "\t\"name\" : \"1 East 66Th Street Kitchen\",\n",
    "\t\"restaurant_id\" : \"40359480\"\n",
    "}\n",
    "```\n"
   ]
  },
  {
   "cell_type": "code",
   "execution_count": null,
   "metadata": {
    "collapsed": true
   },
   "outputs": [],
   "source": [
    "from pymongo import MongoClient\n",
    "from utils import fetchall, host, pprint\n",
    "\n",
    "client = MongoClient(host())\n",
    "db = client.comp521"
   ]
  },
  {
   "cell_type": "markdown",
   "metadata": {},
   "source": [
    "### Ex 1:  Find all the French restaurants."
   ]
  },
  {
   "cell_type": "code",
   "execution_count": null,
   "metadata": {
    "collapsed": true
   },
   "outputs": [],
   "source": [
    "# fetchall will convert the results of a query into a list of objects\n",
    "ex1 = fetchall(db.restaurants.find({ \"cuisine\": \"French\" }))\n",
    "\n",
    "# This function will show you formatted results from the query.\n",
    "# By default it shows the first five results.\n",
    "pprint(ex1)"
   ]
  },
  {
   "cell_type": "code",
   "execution_count": null,
   "metadata": {
    "collapsed": true
   },
   "outputs": [],
   "source": [
    "# show the first 50 results\n",
    "pprint(ex1, 50)"
   ]
  },
  {
   "cell_type": "markdown",
   "metadata": {},
   "source": [
    "### Ex 2: Find all the restaurants in Staten Island.\n",
    "\n",
    "We can do this by using a *$match* operator."
   ]
  },
  {
   "cell_type": "code",
   "execution_count": null,
   "metadata": {
    "collapsed": true
   },
   "outputs": [],
   "source": [
    "ex2 = fetchall(db.restaurants.aggregate([\n",
    "    { \"$match\": { \"borough\": \"Staten Island\" } }\n",
    "]))\n",
    "\n",
    "pprint(ex2)"
   ]
  },
  {
   "cell_type": "markdown",
   "metadata": {},
   "source": [
    "### Ex 3: Find the names of all of the restaurants in Staten Island\n",
    "\n",
    "We can do this by adding a **$project** stage to the aggreation in example 2."
   ]
  },
  {
   "cell_type": "code",
   "execution_count": null,
   "metadata": {
    "collapsed": true
   },
   "outputs": [],
   "source": [
    "ex2 = fetchall(db.restaurants.aggregate([\n",
    "    { \"$match\": { \"borough\": \"Staten Island\" } },\n",
    "    { \"$project\": { \"name\": 1 } }\n",
    "]))\n",
    "\n",
    "pprint(ex2)"
   ]
  },
  {
   "cell_type": "markdown",
   "metadata": {},
   "source": [
    "### Ex 4: Find the number of restaurants in each borough.\n",
    "\n",
    "We can use a `$group` stage with a `$sum` operator to do this."
   ]
  },
  {
   "cell_type": "code",
   "execution_count": null,
   "metadata": {
    "collapsed": true
   },
   "outputs": [],
   "source": [
    "ex4 = fetchall(db.restaurants.aggregate([\n",
    "    { \n",
    "        \"$group\": { \n",
    "            \"_id\": \"$borough\",\n",
    "            \"count\": { \"$sum\": 1 } \n",
    "        } \n",
    "    }\n",
    "]))\n",
    "\n",
    "pprint(ex4)"
   ]
  },
  {
   "cell_type": "code",
   "execution_count": null,
   "metadata": {
    "collapsed": true
   },
   "outputs": [],
   "source": []
  }
 ],
 "metadata": {
  "kernelspec": {
   "display_name": "Python 3",
   "language": "python",
   "name": "python3"
  },
  "language_info": {
   "codemirror_mode": {
    "name": "ipython",
    "version": 3
   },
   "file_extension": ".py",
   "mimetype": "text/x-python",
   "name": "python",
   "nbconvert_exporter": "python",
   "pygments_lexer": "ipython3",
   "version": "3.6.2"
  }
 },
 "nbformat": 4,
 "nbformat_minor": 2
}
