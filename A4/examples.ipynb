{
 "cells": [
  {
   "cell_type": "markdown",
   "metadata": {},
   "source": [
    "## Examples"
   ]
  },
  {
   "cell_type": "markdown",
   "metadata": {},
   "source": [
    "For the examples we'll be querying a collection containing data on restaurants in New York City. Here is a sample document from the `restaurants` collection:\n",
    "\n",
    "```\n",
    "{\n",
    "\t\"_id\" : ObjectId(\"59d3ec32063931074ab449e7\"),\n",
    "\t\"address\" : {\n",
    "\t\t\"building\" : \"1\",\n",
    "\t\t\"coord\" : [\n",
    "\t\t\t-73.96926909999999,\n",
    "\t\t\t40.7685235\n",
    "\t\t],\n",
    "\t\t\"street\" : \"East   66 Street\",\n",
    "\t\t\"zipcode\" : \"10065\"\n",
    "\t},\n",
    "\t\"borough\" : \"Manhattan\",\n",
    "\t\"cuisine\" : \"American\",\n",
    "\t\"grades\" : [\n",
    "\t\t{\n",
    "\t\t\t\"date\" : ISODate(\"2014-05-07T00:00:00Z\"),\n",
    "\t\t\t\"grade\" : \"A\",\n",
    "\t\t\t\"score\" : 3\n",
    "\t\t}\n",
    "\t],\n",
    "\t\"name\" : \"1 East 66Th Street Kitchen\",\n",
    "\t\"restaurant_id\" : \"40359480\"\n",
    "}\n",
    "```\n"
   ]
  },
  {
   "cell_type": "code",
   "execution_count": 2,
   "metadata": {},
   "outputs": [],
   "source": [
    "from pymongo import MongoClient\n",
    "from utils import fetchall, host, pprint\n",
    "\n",
    "client = MongoClient(host())\n",
    "db = client.comp521"
   ]
  },
  {
   "cell_type": "markdown",
   "metadata": {},
   "source": [
    "### Ex 1:  Find all the French restaurants."
   ]
  },
  {
   "cell_type": "code",
   "execution_count": 3,
   "metadata": {},
   "outputs": [
    {
     "name": "stdout",
     "output_type": "stream",
     "text": [
      "[ { '_id': ObjectId('59d3ec32063931074ab44a26'),\n",
      "    'address': { 'building': '311',\n",
      "                 'coord': [-73.98621899999999, 40.763406],\n",
      "                 'street': 'West   51 Street',\n",
      "                 'zipcode': '10019'},\n",
      "    'borough': 'Manhattan',\n",
      "    'cuisine': 'French',\n",
      "    'grades': [ { 'date': datetime.datetime(2014, 11, 10, 0, 0),\n",
      "                  'grade': 'B',\n",
      "                  'score': 15},\n",
      "                { 'date': datetime.datetime(2014, 4, 3, 0, 0),\n",
      "                  'grade': 'A',\n",
      "                  'score': 13},\n",
      "                { 'date': datetime.datetime(2013, 7, 17, 0, 0),\n",
      "                  'grade': 'C',\n",
      "                  'score': 36},\n",
      "                { 'date': datetime.datetime(2013, 2, 6, 0, 0),\n",
      "                  'grade': 'B',\n",
      "                  'score': 22},\n",
      "                { 'date': datetime.datetime(2012, 7, 16, 0, 0),\n",
      "                  'grade': 'C',\n",
      "                  'score': 36},\n",
      "                { 'date': datetime.datetime(2012, 3, 8, 0, 0),\n",
      "                  'grade': 'C',\n",
      "                  'score': 7}],\n",
      "    'name': 'Tout Va Bien',\n",
      "    'restaurant_id': '40364576'},\n",
      "  { '_id': ObjectId('59d3ec32063931074ab44a3b'),\n",
      "    'address': { 'building': '3',\n",
      "                 'coord': [-73.97557069999999, 40.7596796],\n",
      "                 'street': 'East   52 Street',\n",
      "                 'zipcode': '10022'},\n",
      "    'borough': 'Manhattan',\n",
      "    'cuisine': 'French',\n",
      "    'grades': [ { 'date': datetime.datetime(2014, 4, 9, 0, 0),\n",
      "                  'grade': 'A',\n",
      "                  'score': 10},\n",
      "                { 'date': datetime.datetime(2013, 3, 5, 0, 0),\n",
      "                  'grade': 'A',\n",
      "                  'score': 9},\n",
      "                { 'date': datetime.datetime(2012, 2, 2, 0, 0),\n",
      "                  'grade': 'A',\n",
      "                  'score': 13}],\n",
      "    'name': 'La Grenouille',\n",
      "    'restaurant_id': '40365264'},\n",
      "  { '_id': ObjectId('59d3ec32063931074ab44a40'),\n",
      "    'address': { 'building': '405',\n",
      "                 'coord': [-73.9646207, 40.7550069],\n",
      "                 'street': 'East   52 Street',\n",
      "                 'zipcode': '10022'},\n",
      "    'borough': 'Manhattan',\n",
      "    'cuisine': 'French',\n",
      "    'grades': [ { 'date': datetime.datetime(2014, 7, 14, 0, 0),\n",
      "                  'grade': 'B',\n",
      "                  'score': 14},\n",
      "                { 'date': datetime.datetime(2013, 12, 2, 0, 0),\n",
      "                  'grade': 'A',\n",
      "                  'score': 12},\n",
      "                { 'date': datetime.datetime(2013, 4, 8, 0, 0),\n",
      "                  'grade': 'B',\n",
      "                  'score': 22},\n",
      "                { 'date': datetime.datetime(2012, 9, 17, 0, 0),\n",
      "                  'grade': 'A',\n",
      "                  'score': 12},\n",
      "                { 'date': datetime.datetime(2012, 4, 3, 0, 0),\n",
      "                  'grade': 'A',\n",
      "                  'score': 12}],\n",
      "    'name': 'Le Perigord',\n",
      "    'restaurant_id': '40365414'},\n",
      "  { '_id': ObjectId('59d3ec32063931074ab44aa5'),\n",
      "    'address': { 'building': '48',\n",
      "                 'coord': [-73.977035, 40.762307],\n",
      "                 'street': 'West   55 Street',\n",
      "                 'zipcode': '10019'},\n",
      "    'borough': 'Manhattan',\n",
      "    'cuisine': 'French',\n",
      "    'grades': [ { 'date': datetime.datetime(2014, 5, 15, 0, 0),\n",
      "                  'grade': 'A',\n",
      "                  'score': 9},\n",
      "                { 'date': datetime.datetime(2013, 12, 16, 0, 0),\n",
      "                  'grade': 'A',\n",
      "                  'score': 12},\n",
      "                { 'date': datetime.datetime(2013, 5, 21, 0, 0),\n",
      "                  'grade': 'A',\n",
      "                  'score': 9},\n",
      "                { 'date': datetime.datetime(2012, 5, 7, 0, 0),\n",
      "                  'grade': 'A',\n",
      "                  'score': 12},\n",
      "                { 'date': datetime.datetime(2011, 12, 12, 0, 0),\n",
      "                  'grade': 'A',\n",
      "                  'score': 11},\n",
      "                { 'date': datetime.datetime(2011, 7, 25, 0, 0),\n",
      "                  'grade': 'A',\n",
      "                  'score': 5}],\n",
      "    'name': 'La Bonne Soupe Bistro',\n",
      "    'restaurant_id': '40367715'},\n",
      "  { '_id': ObjectId('59d3ec32063931074ab44acb'),\n",
      "    'address': { 'building': '180',\n",
      "                 'coord': [-74.002139, 40.7261357],\n",
      "                 'street': 'Prince Street',\n",
      "                 'zipcode': '10012'},\n",
      "    'borough': 'Manhattan',\n",
      "    'cuisine': 'French',\n",
      "    'grades': [ { 'date': datetime.datetime(2014, 2, 25, 0, 0),\n",
      "                  'grade': 'A',\n",
      "                  'score': 6},\n",
      "                { 'date': datetime.datetime(2013, 8, 13, 0, 0),\n",
      "                  'grade': 'A',\n",
      "                  'score': 3},\n",
      "                { 'date': datetime.datetime(2013, 2, 19, 0, 0),\n",
      "                  'grade': 'B',\n",
      "                  'score': 18},\n",
      "                { 'date': datetime.datetime(2012, 4, 5, 0, 0),\n",
      "                  'grade': 'A',\n",
      "                  'score': 12},\n",
      "                { 'date': datetime.datetime(2011, 9, 28, 0, 0),\n",
      "                  'grade': 'A',\n",
      "                  'score': 9}],\n",
      "    'name': 'Raouls',\n",
      "    'restaurant_id': '40368752'}]\n"
     ]
    }
   ],
   "source": [
    "# fetchall will convert the results of a query into a list of objects\n",
    "ex1 = fetchall(db.restaurants.find({ \"cuisine\": \"French\" }))\n",
    "\n",
    "# This function will show you formatted results from the query.\n",
    "# By default it shows the first five results.\n",
    "pprint(ex1)"
   ]
  },
  {
   "cell_type": "code",
   "execution_count": null,
   "metadata": {
    "collapsed": true
   },
   "outputs": [],
   "source": [
    "# show the first 50 results\n",
    "pprint(ex1, 50)"
   ]
  },
  {
   "cell_type": "markdown",
   "metadata": {},
   "source": [
    "### Ex 2: Find all the restaurants in Staten Island.\n",
    "\n",
    "We can do this by using a *$match* operator."
   ]
  },
  {
   "cell_type": "code",
   "execution_count": 4,
   "metadata": {},
   "outputs": [
    {
     "name": "stdout",
     "output_type": "stream",
     "text": [
      "[ { '_id': ObjectId('59d3ec32063931074ab449e0'),\n",
      "    'address': { 'building': '2206',\n",
      "                 'coord': [-74.1377286, 40.6119572],\n",
      "                 'street': 'Victory Boulevard',\n",
      "                 'zipcode': '10314'},\n",
      "    'borough': 'Staten Island',\n",
      "    'cuisine': 'Jewish/Kosher',\n",
      "    'grades': [ { 'date': datetime.datetime(2014, 10, 6, 0, 0),\n",
      "                  'grade': 'A',\n",
      "                  'score': 9},\n",
      "                { 'date': datetime.datetime(2014, 5, 20, 0, 0),\n",
      "                  'grade': 'A',\n",
      "                  'score': 12},\n",
      "                { 'date': datetime.datetime(2013, 4, 4, 0, 0),\n",
      "                  'grade': 'A',\n",
      "                  'score': 12},\n",
      "                { 'date': datetime.datetime(2012, 1, 24, 0, 0),\n",
      "                  'grade': 'A',\n",
      "                  'score': 9}],\n",
      "    'name': 'Kosher Island',\n",
      "    'restaurant_id': '40356442'},\n",
      "  { '_id': ObjectId('59d3ec32063931074ab44a00'),\n",
      "    'address': { 'building': '2491',\n",
      "                 'coord': [-74.1459332, 40.6103714],\n",
      "                 'street': 'Victory Boulevard',\n",
      "                 'zipcode': '10314'},\n",
      "    'borough': 'Staten Island',\n",
      "    'cuisine': 'Delicatessen',\n",
      "    'grades': [ { 'date': datetime.datetime(2015, 1, 9, 0, 0),\n",
      "                  'grade': 'A',\n",
      "                  'score': 3},\n",
      "                { 'date': datetime.datetime(2013, 12, 5, 0, 0),\n",
      "                  'grade': 'A',\n",
      "                  'score': 10},\n",
      "                { 'date': datetime.datetime(2013, 6, 19, 0, 0),\n",
      "                  'grade': 'A',\n",
      "                  'score': 10},\n",
      "                { 'date': datetime.datetime(2013, 1, 8, 0, 0),\n",
      "                  'grade': 'A',\n",
      "                  'score': 11}],\n",
      "    'name': 'Bagels N Buns',\n",
      "    'restaurant_id': '40363427'},\n",
      "  { '_id': ObjectId('59d3ec32063931074ab44a09'),\n",
      "    'address': { 'building': '1111',\n",
      "                 'coord': [-74.0796436, 40.59878339999999],\n",
      "                 'street': 'Hylan Boulevard',\n",
      "                 'zipcode': '10305'},\n",
      "    'borough': 'Staten Island',\n",
      "    'cuisine': 'Ice Cream, Gelato, Yogurt, Ices',\n",
      "    'grades': [ { 'date': datetime.datetime(2014, 4, 24, 0, 0),\n",
      "                  'grade': 'A',\n",
      "                  'score': 12},\n",
      "                { 'date': datetime.datetime(2013, 2, 26, 0, 0),\n",
      "                  'grade': 'A',\n",
      "                  'score': 5},\n",
      "                { 'date': datetime.datetime(2012, 2, 2, 0, 0),\n",
      "                  'grade': 'A',\n",
      "                  'score': 2}],\n",
      "    'name': 'Carvel Ice Cream',\n",
      "    'restaurant_id': '40363834'},\n",
      "  { '_id': ObjectId('59d3ec32063931074ab44a0e'),\n",
      "    'address': { 'building': '73',\n",
      "                 'coord': [-74.1178949, 40.5734906],\n",
      "                 'street': 'New Dorp Plaza',\n",
      "                 'zipcode': '10306'},\n",
      "    'borough': 'Staten Island',\n",
      "    'cuisine': 'Delicatessen',\n",
      "    'grades': [ { 'date': datetime.datetime(2014, 11, 18, 0, 0),\n",
      "                  'grade': 'A',\n",
      "                  'score': 12},\n",
      "                { 'date': datetime.datetime(2013, 11, 7, 0, 0),\n",
      "                  'grade': 'A',\n",
      "                  'score': 12},\n",
      "                { 'date': datetime.datetime(2013, 4, 24, 0, 0),\n",
      "                  'grade': 'A',\n",
      "                  'score': 7},\n",
      "                { 'date': datetime.datetime(2012, 3, 20, 0, 0),\n",
      "                  'grade': 'A',\n",
      "                  'score': 5}],\n",
      "    'name': 'Plaza Bagels & Deli',\n",
      "    'restaurant_id': '40364286'},\n",
      "  { '_id': ObjectId('59d3ec32063931074ab44a13'),\n",
      "    'address': { 'building': '203',\n",
      "                 'coord': [-74.15235919999999, 40.5563756],\n",
      "                 'street': 'Giffords Lane',\n",
      "                 'zipcode': '10308'},\n",
      "    'borough': 'Staten Island',\n",
      "    'cuisine': 'Delicatessen',\n",
      "    'grades': [ { 'date': datetime.datetime(2015, 1, 5, 0, 0),\n",
      "                  'grade': 'A',\n",
      "                  'score': 4},\n",
      "                { 'date': datetime.datetime(2014, 9, 11, 0, 0),\n",
      "                  'grade': 'C',\n",
      "                  'score': 39},\n",
      "                { 'date': datetime.datetime(2014, 3, 20, 0, 0),\n",
      "                  'grade': 'A',\n",
      "                  'score': 12},\n",
      "                { 'date': datetime.datetime(2013, 1, 24, 0, 0),\n",
      "                  'grade': 'A',\n",
      "                  'score': 13},\n",
      "                { 'date': datetime.datetime(2012, 5, 23, 0, 0),\n",
      "                  'grade': 'A',\n",
      "                  'score': 10}],\n",
      "    'name': 'B & M Hot Bagel & Grocery',\n",
      "    'restaurant_id': '40364299'}]\n"
     ]
    }
   ],
   "source": [
    "ex2 = fetchall(db.restaurants.aggregate([\n",
    "    { \"$match\": { \"borough\": \"Staten Island\" } }\n",
    "]))\n",
    "\n",
    "pprint(ex2)"
   ]
  },
  {
   "cell_type": "markdown",
   "metadata": {},
   "source": [
    "### Ex 3: Find the names of all of the restaurants in Staten Island\n",
    "\n",
    "We can do this by adding a **$project** stage to the aggreation in example 2."
   ]
  },
  {
   "cell_type": "code",
   "execution_count": 5,
   "metadata": {},
   "outputs": [
    {
     "name": "stdout",
     "output_type": "stream",
     "text": [
      "[ {'_id': ObjectId('59d3ec32063931074ab449e0'), 'name': 'Kosher Island'},\n",
      "  {'_id': ObjectId('59d3ec32063931074ab44a00'), 'name': 'Bagels N Buns'},\n",
      "  {'_id': ObjectId('59d3ec32063931074ab44a09'), 'name': 'Carvel Ice Cream'},\n",
      "  {'_id': ObjectId('59d3ec32063931074ab44a0e'), 'name': 'Plaza Bagels & Deli'},\n",
      "  { '_id': ObjectId('59d3ec32063931074ab44a13'),\n",
      "    'name': 'B & M Hot Bagel & Grocery'}]\n"
     ]
    }
   ],
   "source": [
    "ex2 = fetchall(db.restaurants.aggregate([\n",
    "    { \"$match\": { \"borough\": \"Staten Island\" } },\n",
    "    { \"$project\": { \"name\": 1 } }\n",
    "]))\n",
    "\n",
    "pprint(ex2)"
   ]
  },
  {
   "cell_type": "markdown",
   "metadata": {},
   "source": [
    "### Ex 4: Find the number of restaurants in each borough.\n",
    "\n",
    "We can use a `$group` stage with a `$sum` operator to do this."
   ]
  },
  {
   "cell_type": "code",
   "execution_count": 6,
   "metadata": {},
   "outputs": [
    {
     "name": "stdout",
     "output_type": "stream",
     "text": [
      "[ {'_id': 'Missing', 'count': 51},\n",
      "  {'_id': 'Brooklyn', 'count': 6086},\n",
      "  {'_id': 'Bronx', 'count': 2338},\n",
      "  {'_id': 'Queens', 'count': 5656},\n",
      "  {'_id': 'Manhattan', 'count': 10259}]\n"
     ]
    }
   ],
   "source": [
    "ex4 = fetchall(db.restaurants.aggregate([\n",
    "    { \n",
    "        \"$group\": { \n",
    "            \"_id\": \"$borough\",\n",
    "            \"count\": { \"$sum\": 1 } \n",
    "        } \n",
    "    }\n",
    "]))\n",
    "\n",
    "pprint(ex4)"
   ]
  },
  {
   "cell_type": "code",
   "execution_count": null,
   "metadata": {
    "collapsed": true
   },
   "outputs": [],
   "source": []
  }
 ],
 "metadata": {
  "kernelspec": {
   "display_name": "Python 3",
   "language": "python",
   "name": "python3"
  },
  "language_info": {
   "codemirror_mode": {
    "name": "ipython",
    "version": 3
   },
   "file_extension": ".py",
   "mimetype": "text/x-python",
   "name": "python",
   "nbconvert_exporter": "python",
   "pygments_lexer": "ipython3",
   "version": "3.6.2"
  }
 },
 "nbformat": 4,
 "nbformat_minor": 2
}
