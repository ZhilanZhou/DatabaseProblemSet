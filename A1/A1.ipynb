{
 "cells": [
  {
   "cell_type": "markdown",
   "metadata": {},
   "source": [
    "# Assignment 1 Comp 521 Fall 2017\n",
    "\n",
    "Assigned: 5 September 2017  \n",
    "Due: 19 September 2017\n",
    "\n",
    "Answer each question below by filling in code at the point indicated. Do not modify any of the other cells. \n",
    "\n",
    "You __must__ run the cells in order. It looks like you can come back later after restarting and pick up where you left off but that is not the case. When restarting you always have to start at the top of the notebook and run each cell in turn. "
   ]
  },
  {
   "cell_type": "code",
   "execution_count": 44,
   "metadata": {
    "collapsed": true
   },
   "outputs": [],
   "source": [
    "# fill in the information below\n",
    "Author = 'Zhilan Zhou'\n",
    "Collaborators = []"
   ]
  },
  {
   "cell_type": "code",
   "execution_count": 45,
   "metadata": {
    "collapsed": true
   },
   "outputs": [],
   "source": [
    "# checker setup do NOT change this\n",
    "import comp521\n",
    "check, report = comp521.start('A1')"
   ]
  },
  {
   "cell_type": "code",
   "execution_count": 46,
   "metadata": {
    "collapsed": true
   },
   "outputs": [],
   "source": [
    "# setup, no need to change this\n",
    "from Dee import *\n",
    "from DeeDatabase import Database\n",
    "from CourseEnrollmentDee import DeeDB\n",
    "import sqlite3\n",
    "\n",
    "# I'll open a DB in memory\n",
    "conn = sqlite3.connect(\":memory:\")\n",
    "cursor = conn.cursor()"
   ]
  },
  {
   "cell_type": "markdown",
   "metadata": {},
   "source": [
    "## Question 1\n",
    "Use SQL to create tables for the following database schema modeling a library.\n",
    "\n",
    "STUDENT __sid__(INTEGER) sname(TEXT)  \n",
    "BOOK __bid__(INTEGER) bname(TEXT) author(TEXT)  \n",
    "BORROWS __id__(INTEGER) sid(INTEGER) bid(INTEGER) date(TEXT)  \n",
    "\n",
    "All primary keys are bold. In the BORROWS table, __bid__ is a foreign key referencing BOOK and __sid__ is a foreign key referencing STUDENT.\n",
    "\n",
    "__Make sure__ you use the *exact* names and data types for the tables and attributes in order to pass the automatic test."
   ]
  },
  {
   "cell_type": "code",
   "execution_count": 47,
   "metadata": {},
   "outputs": [
    {
     "name": "stdout",
     "output_type": "stream",
     "text": [
      "Q1a appears correct\n"
     ]
    }
   ],
   "source": [
    "# I'll clean up for you so you don't get tripped up by trying more than once. Leave this alone\n",
    "cursor.execute('DROP TABLE IF EXISTS \"STUDENT\"')\n",
    "cursor.execute('DROP TABLE IF EXISTS \"BOOK\"')\n",
    "cursor.execute('DROP TABLE IF EXISTS \"BORROWS\"')\n",
    "\n",
    "# insert your code to create the table here using cursor to create the tables.\n",
    "cursor.execute(\"\"\"\n",
    "create table STUDENT \n",
    "    (sid integer primary key, \n",
    "     sname text)\n",
    "\"\"\")\n",
    "\n",
    "cursor.execute(\"\"\"\n",
    "create table BOOK\n",
    "    (bid integer primary key, \n",
    "     bname text, \n",
    "     author text)\n",
    "\"\"\")\n",
    "\n",
    "cursor.execute(\"\"\"\n",
    "create table BORROWS \n",
    "    (id integer primary key, \n",
    "     sid integer, \n",
    "     bid integer, \n",
    "     date text,\n",
    "     foreign key (sid) references STUDENT\n",
    "     foreign key (bid) references BOOK)\n",
    "\"\"\")\n",
    "\n",
    "# leave this testing code alone\n",
    "c1 = cursor.execute(\"SELECT name from sqlite_master WHERE type='table' order by name asc\").fetchall()\n",
    "check('Q1a', c1, points=10)"
   ]
  },
  {
   "cell_type": "markdown",
   "metadata": {},
   "source": [
    "## Question 2\n",
    "Insert the following data into the tables you created above.\n",
    "\n",
    "<table>\n",
    "<caption>STUDENT</caption>\n",
    "<tr><th>sid</th><th>sname</th></tr>\n",
    "<tr><td>1</td><td>Alice</td></tr>\n",
    "<tr><td>2</td><td>Bob</td></tr>\n",
    "<tr><td>3</td><td>Cindy</td></tr>\n",
    "</table>\n",
    "\n",
    "<table>\n",
    "<caption>BOOK</caption>\n",
    "<tr><th>bid</th><th>bname</th><th>author</th></tr>\n",
    "<tr><td>1</td><td>Database Management Systems</td><td>Ramakrishnan</td></tr>\n",
    "<tr><td>2</td><td>Lord of the Rings</td><td>Tolkien</td></tr>\n",
    "</table>\n",
    "\n",
    "<table>\n",
    "<caption>BORROWS</caption>\n",
    "<tr><th>id</th><th>sid</th><th>bid</th><th>date</th></tr>\n",
    "<tr><td>1</td><td>2</td><td>1</td><td>8/3/2017</td></tr>\n",
    "<tr><td>2</td><td>3</td><td>2</td><td>9/1/2017</td></tr>\n",
    "</table>\n"
   ]
  },
  {
   "cell_type": "code",
   "execution_count": 48,
   "metadata": {},
   "outputs": [
    {
     "name": "stdout",
     "output_type": "stream",
     "text": [
      "Q2a appears correct\n",
      "Q2b appears correct\n",
      "Q2c appears correct\n"
     ]
    }
   ],
   "source": [
    "# write your code here\n",
    "students = [(1, 'Alice'),\n",
    "            (2, 'Bob'),\n",
    "            (3, 'Cindy')]\n",
    "for student in students:\n",
    "    cursor.execute(\"insert into STUDENT values(?, ?)\", student)\n",
    "    \n",
    "books = [(1, 'Database Management Systems', 'Ramakrishnan'),\n",
    "         (2, 'Lord of the Rings', 'Tolkien')]\n",
    "for book in books:\n",
    "    cursor.execute(\"insert into BOOK values(?, ?, ?)\", book)\n",
    "\n",
    "borrows = [(1, 2, 1, '8/3/2017'),\n",
    "         (2, 3, 2, '9/1/2017')]\n",
    "for borrow in borrows:\n",
    "    cursor.execute(\"insert into BORROWS values(?, ?, ?, ?)\", borrow)\n",
    "    \n",
    "# testing code\n",
    "c2a = cursor.execute('select * from STUDENT').fetchall()\n",
    "check('Q2a', c2a, points=5)\n",
    "c2b = cursor.execute('select * from BOOK').fetchall()\n",
    "check('Q2b', c2b, points=5)\n",
    "c2c = cursor.execute('select * from BORROWS').fetchall()\n",
    "check('Q2c', c2c, points=5)"
   ]
  },
  {
   "cell_type": "markdown",
   "metadata": {},
   "source": [
    "## Question 3\n",
    "Delete the record with id equal 1 from the BORROWS table."
   ]
  },
  {
   "cell_type": "code",
   "execution_count": 49,
   "metadata": {},
   "outputs": [
    {
     "name": "stdout",
     "output_type": "stream",
     "text": [
      "Q3 appears correct\n"
     ]
    }
   ],
   "source": [
    "# write your code here\n",
    "cursor.execute(\"\"\"\n",
    "delete from BORROWS\n",
    "    where id=1\n",
    "\"\"\")\n",
    "    \n",
    "# don't touch this\n",
    "c3 = cursor.execute('''select * from BORROWS''').fetchall()\n",
    "check('Q3', c3, points=10)"
   ]
  },
  {
   "cell_type": "markdown",
   "metadata": {},
   "source": [
    "## Setup for questions 4-11\n",
    "Consider the following schema for a database modeling courses at UNC.\n",
    "```\n",
    "    DEPARTMENT (did, name)  \n",
    "    COURSE (cid, did, name, num, creditHours)  \n",
    "    STUDENT (sid, fname, lname, did)  \n",
    "    ENROLLED_IN (eid, sid, cid)  \n",
    "```\n",
    "    \n",
    "In the COURSE table, did is a foreign key referencing DEPARTMENT(did). In the ENROLLED_IN\n",
    "table, sid is a foreign key referencing STUDENT(sid), and cid is a foreign key referencing\n",
    "COURSE(cid). In STUDENT, did is a foreign key referencing DEPARTMENT(did).\n",
    "\n",
    "### Questions 4-7\n",
    "\n",
    "Use [Dee](http://www.quicksort.co.uk/DeeDoc.html) to write relational algebra queries for the following. In particular, you may find the\n",
    "following Dee operators most useful: Projection, Restriction (corresponds to select in\n",
    "relational algebra), Join, Intersection, Difference, Union.\n",
    "\n",
    "Your, already populated, Dee database is named DeeDB.\n"
   ]
  },
  {
   "cell_type": "markdown",
   "metadata": {},
   "source": [
    "## Question 4\n",
    "Find the names of all courses below the 500 level. You can get the Dee relation for COURSE with `DeeDB.COURSE`."
   ]
  },
  {
   "cell_type": "code",
   "execution_count": 50,
   "metadata": {},
   "outputs": [
    {
     "name": "stdout",
     "output_type": "stream",
     "text": [
      "Q4 appears correct\n"
     ]
    }
   ],
   "source": [
    "# write code here used DeeDB and Dee methods.\n",
    "c4 = DeeDB.COURSE.where(lambda t: t.num < 500).project(['name'])\n",
    "\n",
    "# checking code\n",
    "check('Q4', c4, points=5)"
   ]
  },
  {
   "cell_type": "markdown",
   "metadata": {},
   "source": [
    "## Question 5\n",
    "Find the first and last names of all students enrolled in \"Files and Databases\"."
   ]
  },
  {
   "cell_type": "code",
   "execution_count": 51,
   "metadata": {},
   "outputs": [
    {
     "name": "stdout",
     "output_type": "stream",
     "text": [
      "Q5 appears correct\n"
     ]
    }
   ],
   "source": [
    "# Assign your result to c5\n",
    "c5 = (DeeDB.STUDENT.remove(['did']) & DeeDB.ENROLLED_IN & DeeDB.COURSE.where\n",
    " (lambda t: t.name == \"Files and Databases\")).project(['fname','lname'])\n",
    "\n",
    "# checking\n",
    "check('Q5', c5, points=5)"
   ]
  },
  {
   "cell_type": "markdown",
   "metadata": {},
   "source": [
    "## Question 6\n",
    "Find the first and last names of all students in the ANTH department."
   ]
  },
  {
   "cell_type": "code",
   "execution_count": 52,
   "metadata": {},
   "outputs": [
    {
     "name": "stdout",
     "output_type": "stream",
     "text": [
      "Q6 appears correct\n"
     ]
    }
   ],
   "source": [
    "# assign to c6\n",
    "c6 = (DeeDB.STUDENT & DeeDB.DEPARTMENT.where\n",
    " (lambda t: t.name == \"ANTH\")).project(['fname','lname'])\n",
    "\n",
    "# checking\n",
    "check('Q6', c6, points=5)"
   ]
  },
  {
   "cell_type": "markdown",
   "metadata": {},
   "source": [
    "## Question 7\n",
    "List the first and last names of all students enrolled in no courses."
   ]
  },
  {
   "cell_type": "code",
   "execution_count": 53,
   "metadata": {},
   "outputs": [
    {
     "name": "stdout",
     "output_type": "stream",
     "text": [
      "Q7 appears correct\n"
     ]
    }
   ],
   "source": [
    "# assign to c7\n",
    "c7 = ((DeeDB.STUDENT.project(['fname','lname'])) - \n",
    "((DeeDB.STUDENT & DeeDB.ENROLLED_IN & DeeDB.COURSE).project(['fname','lname'])))\n",
    "\n",
    "# checking\n",
    "check('Q7', c7, points=5)"
   ]
  },
  {
   "cell_type": "markdown",
   "metadata": {},
   "source": [
    "### Questions 8-11\n",
    "\n",
    "Now use the sqlite3 database `courseEnrollment.db`, which has the same schema as above to write SQL queries for the following. I will open it for you below. __You must execute this next cell before the others!__"
   ]
  },
  {
   "cell_type": "code",
   "execution_count": 54,
   "metadata": {
    "collapsed": true
   },
   "outputs": [],
   "source": [
    "econn = sqlite3.connect('CourseEnrollment.db')\n",
    "ecursor = econn.cursor()\n",
    "\n",
    "# use ecursor to refer to this database below."
   ]
  },
  {
   "cell_type": "markdown",
   "metadata": {},
   "source": [
    "## Question 8\n",
    "Find the names of all 4 credit hour courses."
   ]
  },
  {
   "cell_type": "code",
   "execution_count": 55,
   "metadata": {},
   "outputs": [
    {
     "name": "stdout",
     "output_type": "stream",
     "text": [
      "Q8 appears correct\n"
     ]
    }
   ],
   "source": [
    "# your code here\n",
    "c8 = ecursor.execute(\"\"\"\n",
    "select C.name \n",
    "    from COURSE C\n",
    "    where C.creditHours=4\"\"\").fetchall()\n",
    "\n",
    "check('Q8', c8, points=10, sort=True)"
   ]
  },
  {
   "cell_type": "markdown",
   "metadata": {},
   "source": [
    "## Question 9\n",
    "Find the first and last names of all students enrolled in COMP courses."
   ]
  },
  {
   "cell_type": "code",
   "execution_count": 56,
   "metadata": {},
   "outputs": [
    {
     "name": "stdout",
     "output_type": "stream",
     "text": [
      "Q9 appears correct\n"
     ]
    }
   ],
   "source": [
    "# your code here\n",
    "c9 = ecursor.execute(\"\"\"\n",
    "select distinct S.fname, S.lname\n",
    "    from COURSE C, ENROLLED_IN E, STUDENT S, DEPARTMENT D\n",
    "    where S.sid=E.sid and E.cid=C.cid and C.did=D.did and D.name='COMP'\"\"\").fetchall()\n",
    "\n",
    "check('Q9', c9, points=10, sort=True)"
   ]
  },
  {
   "cell_type": "markdown",
   "metadata": {},
   "source": [
    "## Question 10\n",
    "Find the first and last names of all students enrolled in courses of at least 500 level."
   ]
  },
  {
   "cell_type": "code",
   "execution_count": 57,
   "metadata": {},
   "outputs": [
    {
     "name": "stdout",
     "output_type": "stream",
     "text": [
      "Q10 appears correct\n"
     ]
    }
   ],
   "source": [
    "# your code here\n",
    "c10 = ecursor.execute(\"\"\"\n",
    "select distinct S.fname, S.lname \n",
    "    from COURSE C, ENROLLED_IN E, STUDENT S\n",
    "    where S.sid=E.sid and E.cid=C.cid and C.num>500\"\"\").fetchall()\n",
    "\n",
    "check('Q10', c10, points=10, sort=True)"
   ]
  },
  {
   "cell_type": "markdown",
   "metadata": {},
   "source": [
    "## Question 11\n",
    "Find the first and last names of all students enrolled in 'Data Structures' and \"Anthropology of the Body and the Subject'."
   ]
  },
  {
   "cell_type": "code",
   "execution_count": 58,
   "metadata": {},
   "outputs": [
    {
     "name": "stdout",
     "output_type": "stream",
     "text": [
      "Q11 appears correct\n"
     ]
    }
   ],
   "source": [
    "# your code here\n",
    "c11 = ecursor.execute(\"\"\"\n",
    "select distinct S.fname, S.lname \n",
    "    from COURSE C1, COURSE C2, ENROLLED_IN E1, ENROLLED_IN E2, STUDENT S\n",
    "    where S.sid=E1.sid and E1.cid=C1.cid and C1.name='Data Structures' and\n",
    "          S.sid=E2.sid and E2.cid=C2.cid and C2.name='Anthropology of the Body and the Subject'\"\"\").fetchall()\n",
    "\n",
    "check('Q11', c11, points=15, sort=True)"
   ]
  },
  {
   "cell_type": "markdown",
   "metadata": {},
   "source": [
    "## Done!\n",
    "\n",
    "Now get your report and submit your assignment."
   ]
  },
  {
   "cell_type": "code",
   "execution_count": 59,
   "metadata": {},
   "outputs": [
    {
     "name": "stdout",
     "output_type": "stream",
     "text": [
      "Q10\n",
      "Q11\n",
      "Q1a\n",
      "Q2a\n",
      "Q2b\n",
      "Q2c\n",
      "Q3\n",
      "Q4\n",
      "Q5\n",
      "Q6\n",
      "Q7\n",
      "Q8\n",
      "Q9\n",
      "  Collaborators: []\n",
      "Report for Zhilan Zhou\n",
      "  13 of 13 correct, 100 of 100 points\n"
     ]
    },
    {
     "data": {
      "text/html": [
       "\n",
       "<p>Click the button below to submit your notebook. Watch for a confirmation message\n",
       "that your notebook was successfully uploaded. You may submit as often as you wish,\n",
       "only the last submission will count.</p>\n",
       "<button id=\"submitButton116\">Submit this notebook</button>\n",
       "<p id=\"submitResponse116\"></p>\n",
       "<script>\n",
       "var site = 'https://wwwx.cs.unc.edu/Courses/comp521-f17/';\n",
       "$('#submitButton116').on('click', function() {\n",
       "    var site = 'https://wwwx.cs.unc.edu/Courses/comp521-f17/',\n",
       "        $sresp = $('#submitResponse116'),\n",
       "        button = $('#submitButton116');\n",
       "    button.prop('disabled', true);\n",
       "    // wait until save is complete before pushing the notebook\n",
       "    $([IPython.events]).one('notebook_saved.Notebook', function() {\n",
       "        // get the token by logging in\n",
       "        $sresp.html('logging in');\n",
       "        $.ajax({\n",
       "            url: site + 'io/token/token.cgi',\n",
       "            dataType: 'jsonp'\n",
       "        }).done(function(data) {\n",
       "            var notebook = IPython.notebook.notebook_name,\n",
       "                uuid = data.token,\n",
       "                command = \"comp521.pushNotebook('\" + notebook + \"', '\" + uuid + \"')\",\n",
       "                kernel = IPython.notebook.kernel,\n",
       "                handler = function (out) {\n",
       "                    $('#comp116-stop-message').show();\n",
       "                    if (out.content.status == \"ok\") {\n",
       "                        $sresp.html(\"Successfully submitted \" + notebook);\n",
       "                        $('#comp116-stop-message').hide();\n",
       "                    } else if(out.content.status == \"error\") {\n",
       "                        $sresp.html(out.content.ename + \": \" + out.content.evalue);\n",
       "                    } else { // if output is something we haven't thought of\n",
       "                        $sresp.html(\"[out type not implemented]\")\n",
       "                    }\n",
       "                    button.prop('disabled', false);\n",
       "                };\n",
       "            $sresp.html('Submitting');\n",
       "            kernel.execute(command, {shell: { reply: handler }});\n",
       "        }).fail(function() {\n",
       "            $sresp.html('Login failed');\n",
       "            button.prop('disabled', false);\n",
       "        });\n",
       "    });\n",
       "    // trigger the save\n",
       "    $sresp.html('Saving');\n",
       "    IPython.notebook.save_notebook();\n",
       "});"
      ],
      "text/plain": [
       "<IPython.core.display.HTML object>"
      ]
     },
     "execution_count": 59,
     "metadata": {},
     "output_type": "execute_result"
    }
   ],
   "source": [
    "report(Author, Collaborators)"
   ]
  },
  {
   "cell_type": "code",
   "execution_count": null,
   "metadata": {
    "collapsed": true
   },
   "outputs": [],
   "source": []
  }
 ],
 "metadata": {
  "kernelspec": {
   "display_name": "Python 3",
   "language": "python",
   "name": "python3"
  },
  "language_info": {
   "codemirror_mode": {
    "name": "ipython",
    "version": 3
   },
   "file_extension": ".py",
   "mimetype": "text/x-python",
   "name": "python",
   "nbconvert_exporter": "python",
   "pygments_lexer": "ipython3",
   "version": "3.6.2"
  }
 },
 "nbformat": 4,
 "nbformat_minor": 1
}
