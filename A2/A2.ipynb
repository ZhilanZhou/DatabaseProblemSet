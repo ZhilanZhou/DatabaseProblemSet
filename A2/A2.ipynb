{
 "cells": [
  {
   "cell_type": "markdown",
   "metadata": {},
   "source": [
    "# Comp 521 Fall 2017 Assignment 2\n",
    "__Assigned__: 28 September 2017  \n",
    "__Due__: 10 October 2017"
   ]
  },
  {
   "cell_type": "code",
   "execution_count": 10,
   "metadata": {
    "collapsed": true
   },
   "outputs": [],
   "source": [
    "# fill in your info here\n",
    "onyen = \"zzl\"\n",
    "collaborators = []"
   ]
  },
  {
   "cell_type": "markdown",
   "metadata": {},
   "source": [
    "Download and unzip [movies.db.zip](http://gb.cs.unc.edu/~gb/movies.db.zip) to produce a movies.db file in your working folder. This database is about 836 megabytes so some of the queries may take a while, __start early__.  This database has the following schema:\n",
    "```\n",
    "Customers (\n",
    "    cardNo INTEGER PRIMARY KEY,\n",
    "    first TEXT,\n",
    "    last TEXT,\n",
    "    sex CHAR,\n",
    "    dob DATE\n",
    ")\n",
    "\n",
    "Movies (\n",
    "    movieId INTEGER PRIMARY KEY,\n",
    "    title TEXT,\n",
    "    year INTEGER\n",
    ")\n",
    "\n",
    "Rentals (\n",
    "    cardNo INTEGER,\n",
    "    movieId INTEGER,\n",
    "    date DATE,\n",
    "    rating INTEGER,\n",
    "    PRIMARY KEY(cardNo, movieID, date),\n",
    "    FOREIGN KEY (cardNo) REFERENCES Customers,\n",
    "    FOREIGN KEY (movieId) REFERENCES Movies\n",
    ")\n",
    "```\n",
    "\n",
    "Write code in the cells below to answer each question."
   ]
  },
  {
   "cell_type": "code",
   "execution_count": 11,
   "metadata": {
    "collapsed": true
   },
   "outputs": [],
   "source": [
    "# setup\n",
    "import sqlite3\n",
    "conn = sqlite3.connect('movies.db')\n",
    "cursor = conn.cursor()\n",
    "\n",
    "import comp521\n",
    "check, report = comp521.start('A2')"
   ]
  },
  {
   "cell_type": "markdown",
   "metadata": {},
   "source": [
    "## 1. Find the following using SQL queries"
   ]
  },
  {
   "cell_type": "markdown",
   "metadata": {},
   "source": [
    "__1a. How many male customers are there?__"
   ]
  },
  {
   "cell_type": "code",
   "execution_count": 12,
   "metadata": {},
   "outputs": [
    {
     "name": "stdout",
     "output_type": "stream",
     "text": [
      "1a appears correct\n"
     ]
    }
   ],
   "source": [
    "# write your query as a single string here\n",
    "a1a = \"\"\"\n",
    "select count(*) \n",
    "    from Customers C\n",
    "    where C.sex='M'\"\"\"\n",
    "\n",
    "# code to execute your query, leave this alone\n",
    "q1a = cursor.execute(a1a).fetchone()[0]\n",
    "check('1a', q1a, points=10)"
   ]
  },
  {
   "cell_type": "markdown",
   "metadata": {},
   "source": [
    "__1b. How many movies were released in either 2004 or 2006?__"
   ]
  },
  {
   "cell_type": "code",
   "execution_count": 13,
   "metadata": {},
   "outputs": [
    {
     "name": "stdout",
     "output_type": "stream",
     "text": [
      "1b appears correct\n"
     ]
    }
   ],
   "source": [
    "a1b = \"\"\"\n",
    "select count(*) \n",
    "    from Movies M\n",
    "    where M.year=2004 or M.year=2006\"\"\"\n",
    "\n",
    "# test code\n",
    "q1b = cursor.execute(a1b).fetchone()[0]\n",
    "check('1b', q1b, points=10)"
   ]
  },
  {
   "cell_type": "markdown",
   "metadata": {},
   "source": [
    "__1c. What are the first and last names of the oldest customers in alphabetical order by last and first name?__"
   ]
  },
  {
   "cell_type": "code",
   "execution_count": 14,
   "metadata": {},
   "outputs": [
    {
     "name": "stdout",
     "output_type": "stream",
     "text": [
      "1c appears correct\n"
     ]
    }
   ],
   "source": [
    "a1c = \"\"\"\n",
    "select first, last\n",
    "    from Customers C \n",
    "    where C.dob=(select MIN(dob) from Customers)\n",
    "    order by last, first\"\"\"\n",
    "\n",
    "# test\n",
    "q1c = cursor.execute(a1c).fetchall()\n",
    "check('1c', q1c, points=10)"
   ]
  },
  {
   "cell_type": "markdown",
   "metadata": {},
   "source": [
    "__1d. How many customers were born before January 1st, 1950 (not inclusive)?__"
   ]
  },
  {
   "cell_type": "code",
   "execution_count": 15,
   "metadata": {},
   "outputs": [
    {
     "name": "stdout",
     "output_type": "stream",
     "text": [
      "1d appears correct\n"
     ]
    }
   ],
   "source": [
    "a1d = \"\"\"\n",
    "select count(C.dob) \n",
    "    from Customers C\n",
    "    where C.dob < '1950-01-01'\"\"\"\n",
    "\n",
    "# test\n",
    "q1d = cursor.execute(a1d).fetchone()[0]\n",
    "check('1d', q1d, points=10)"
   ]
  },
  {
   "cell_type": "markdown",
   "metadata": {},
   "source": [
    "__1e. What is the average rating for all movies rented between January 1st 2000, and December 31st 2000 (inclusive)?__"
   ]
  },
  {
   "cell_type": "code",
   "execution_count": 16,
   "metadata": {},
   "outputs": [
    {
     "name": "stdout",
     "output_type": "stream",
     "text": [
      "1e appears correct\n"
     ]
    }
   ],
   "source": [
    "a1e = \"\"\"\n",
    "select avg(R.rating)\n",
    "    from Rentals R\n",
    "    where R.date >= '2000-01-01' and R.date <= '2000-12-31'\"\"\"\n",
    "\n",
    "# test\n",
    "q1e = cursor.execute(a1e).fetchone()[0]\n",
    "check('1e', q1e, points=10)"
   ]
  },
  {
   "cell_type": "markdown",
   "metadata": {},
   "source": [
    "## 2. Fill in the body of the functions below.\n",
    "\n",
    "__2a. Fill in code to make this function return a list with the titles of the films released in the given year, sorted alphabetically.__"
   ]
  },
  {
   "cell_type": "code",
   "execution_count": 17,
   "metadata": {},
   "outputs": [
    {
     "name": "stdout",
     "output_type": "stream",
     "text": [
      "2a appears correct\n"
     ]
    }
   ],
   "source": [
    "def f2a(year):\n",
    "    #your code here\n",
    "    query = \"\"\"select M.title from Movies M where M.year = ? order by M.title\"\"\"\n",
    "    result = cursor.execute(query, (year, )).fetchall()\n",
    "    out = []\n",
    "    for item in result:\n",
    "        out.append(item[0])\n",
    "    return out\n",
    "\n",
    "q2a = f2a(1935)\n",
    "check('2a', q2a, points=10)"
   ]
  },
  {
   "cell_type": "markdown",
   "metadata": {},
   "source": [
    "__2b. Write a function that takes a string representing some part of a film title, and returns a list of tuples with the first and last names of customers who rented those films and rated them 3 or higher. Sort this list alphabetically by last name and first names.__\n"
   ]
  },
  {
   "cell_type": "code",
   "execution_count": 18,
   "metadata": {},
   "outputs": [
    {
     "name": "stdout",
     "output_type": "stream",
     "text": [
      "2b appears correct\n"
     ]
    }
   ],
   "source": [
    "def f2b(title):\n",
    "    #your code here\n",
    "    query = \"\"\"select distinct C.first, C.last from Rentals R, Movies M, Customers C where C.cardNo = R.cardNo and M.movieId = R.movieId and R.rating >=3 and M.title like ? order by C.last, C.first\"\"\"\n",
    "    \n",
    "    result = cursor.execute(query, ('%'+title+'%', )).fetchall()\n",
    "    return result\n",
    "\n",
    "q2b = f2b('rash Di')\n",
    "check('2b', q2b, points=20)"
   ]
  },
  {
   "cell_type": "markdown",
   "metadata": {},
   "source": [
    "__2c. Write a function that takes year as input, and returns a list of the titles of the most rented films among the films released that year.__"
   ]
  },
  {
   "cell_type": "code",
   "execution_count": 19,
   "metadata": {},
   "outputs": [
    {
     "name": "stdout",
     "output_type": "stream",
     "text": [
      "2c appears correct\n"
     ]
    }
   ],
   "source": [
    "def f2c(year):\n",
    "    #your code here\n",
    "    query = \"\"\"select distinct M.title from Rentals R, Movies M where M.movieId = R.movieId and M.year = ? group by R.movieId having count(*) = (select MAX(x) from (select count(*) as x from Rentals R, Movies M where M.movieId = R.movieId and M.year = ? group by R.movieId)) order by M.title\"\"\"\n",
    "    result = cursor.execute(query, (year,year)).fetchall()\n",
    "    out = []\n",
    "    for item in result:\n",
    "        out.append(item[0])\n",
    "    return out\n",
    "\n",
    "q2c = f2c(2001)\n",
    "check('2c', q2c, points=20)  "
   ]
  },
  {
   "cell_type": "markdown",
   "metadata": {},
   "source": [
    "# Done!\n",
    "\n",
    "Now get your report, save, and submit your notebook. I recommend you restart the kernel, and run all, just to be sure things are going to work correctly when I run it."
   ]
  },
  {
   "cell_type": "code",
   "execution_count": 20,
   "metadata": {},
   "outputs": [
    {
     "name": "stdout",
     "output_type": "stream",
     "text": [
      "1a\n",
      "1b\n",
      "1c\n",
      "1d\n",
      "1e\n",
      "2a\n",
      "2b\n",
      "2c\n",
      "  Collaborators: []\n",
      "Report for zzl\n",
      "  8 of 8 correct, 100 of 100 points\n"
     ]
    },
    {
     "data": {
      "text/html": [
       "\n",
       "<p>Click the button below to submit your notebook. Watch for a confirmation message\n",
       "that your notebook was successfully uploaded. You may submit as often as you wish,\n",
       "only the last submission will count.</p>\n",
       "<button id=\"submitButton116\">Submit this notebook</button>\n",
       "<p id=\"submitResponse116\"></p>\n",
       "<script>\n",
       "var site = 'https://wwwx.cs.unc.edu/Courses/comp521-f17/';\n",
       "$('#submitButton116').on('click', function() {\n",
       "    var site = 'https://wwwx.cs.unc.edu/Courses/comp521-f17/',\n",
       "        $sresp = $('#submitResponse116'),\n",
       "        button = $('#submitButton116');\n",
       "    button.prop('disabled', true);\n",
       "    // wait until save is complete before pushing the notebook\n",
       "    $([IPython.events]).one('notebook_saved.Notebook', function() {\n",
       "        // get the token by logging in\n",
       "        $sresp.html('logging in');\n",
       "        $.ajax({\n",
       "            url: site + 'io/token/token.cgi',\n",
       "            dataType: 'jsonp'\n",
       "        }).done(function(data) {\n",
       "            var notebook = IPython.notebook.notebook_name,\n",
       "                uuid = data.token,\n",
       "                command = \"comp521.pushNotebook('\" + notebook + \"', '\" + uuid + \"')\",\n",
       "                kernel = IPython.notebook.kernel,\n",
       "                handler = function (out) {\n",
       "                    $('#comp116-stop-message').show();\n",
       "                    if (out.content.status == \"ok\") {\n",
       "                        $sresp.html(\"Successfully submitted \" + notebook);\n",
       "                        $('#comp116-stop-message').hide();\n",
       "                    } else if(out.content.status == \"error\") {\n",
       "                        $sresp.html(out.content.ename + \": \" + out.content.evalue);\n",
       "                    } else { // if output is something we haven't thought of\n",
       "                        $sresp.html(\"[out type not implemented]\")\n",
       "                    }\n",
       "                    button.prop('disabled', false);\n",
       "                };\n",
       "            $sresp.html('Submitting');\n",
       "            kernel.execute(command, {shell: { reply: handler }});\n",
       "        }).fail(function() {\n",
       "            $sresp.html('Login failed');\n",
       "            button.prop('disabled', false);\n",
       "        });\n",
       "    });\n",
       "    // trigger the save\n",
       "    $sresp.html('Saving');\n",
       "    IPython.notebook.save_notebook();\n",
       "});"
      ],
      "text/plain": [
       "<IPython.core.display.HTML object>"
      ]
     },
     "execution_count": 20,
     "metadata": {},
     "output_type": "execute_result"
    }
   ],
   "source": [
    "report(onyen, collaborators)"
   ]
  },
  {
   "cell_type": "code",
   "execution_count": null,
   "metadata": {
    "collapsed": true
   },
   "outputs": [],
   "source": []
  }
 ],
 "metadata": {
  "kernelspec": {
   "display_name": "Python 3",
   "language": "python",
   "name": "python3"
  },
  "language_info": {
   "codemirror_mode": {
    "name": "ipython",
    "version": 3
   },
   "file_extension": ".py",
   "mimetype": "text/x-python",
   "name": "python",
   "nbconvert_exporter": "python",
   "pygments_lexer": "ipython3",
   "version": "3.6.2"
  }
 },
 "nbformat": 4,
 "nbformat_minor": 1
}
